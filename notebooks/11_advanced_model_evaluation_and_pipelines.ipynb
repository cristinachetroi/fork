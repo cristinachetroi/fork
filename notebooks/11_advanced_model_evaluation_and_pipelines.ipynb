{
 "cells": [
  {
   "cell_type": "markdown",
   "metadata": {},
   "source": [
    "## Class 11 Agenda:\n",
    "  * **Null accuracy**\n",
    "  * **Confusion matrix**\n",
    "  * **sensitivity, specificity, accuracy**\n",
    "  * **ROC curves, AUC, setting a threshold**\n",
    "  * **ROC curves, AUC: All that matters is that ordering is preserved**\n",
    "  * **Pipelines: Putting your entire ML workflow together**"
   ]
  },
  {
   "cell_type": "markdown",
   "metadata": {},
   "source": [
    "Today we are going to talk about how to more accurately measure models for supervised classification. Because supervised classification problems are ubiquitous (will this person churn? will this ad be clicked? will this stock go up tomorrow?), being able to evaluate how well a supervised classifier works and to be able to choose what defines a \"well-performing\" classifier is very important.\n",
    "\n",
    "To that end, we will also learn how to:\n",
    "  * decompose the kinds of errors a trained model makes (on unseen data)\n",
    "  * decide where (at what probability) to threshold a binary classifier (one that decides between two choices) given what is acceptable in terms of the kinds of errors the model is expected to make in the wild. \n",
    "  * understand confusion matrices\n",
    "  \n",
    "** By the end of this notebook you will:**\n",
    "\n",
    "- Have a working conceptual understanding of key aspects of model evaluation in machine learning\n",
    "- Be able to interpret key model metrics computed using scikit-learn\n",
    "- Be able to to use different model metrics for model evaluation, depending on the goals of your model\n",
    "- Be able to explain what an ROC curve and AUC metric are and how they should be used when evaluating classifiers and setting classifier thresholds."
   ]
  },
  {
   "cell_type": "markdown",
   "metadata": {},
   "source": [
    "Let's import everything we're going to use today, like always:"
   ]
  },
  {
   "cell_type": "code",
   "execution_count": 1,
   "metadata": {},
   "outputs": [],
   "source": [
    "#data handling, model creation/evaluation\n",
    "import pandas as pd\n",
    "import numpy as np\n",
    "from sklearn.model_selection import KFold, train_test_split, cross_val_score\n",
    "from sklearn.linear_model import LogisticRegression\n",
    "from sklearn.ensemble import RandomForestClassifier, RandomForestRegressor\n",
    "from sklearn.preprocessing import LabelEncoder, StandardScaler, PolynomialFeatures\n",
    "from sklearn import metrics\n",
    "import scipy.stats as stats\n",
    "\n",
    "# visualization\n",
    "%matplotlib inline\n",
    "import seaborn as sns"
   ]
  },
  {
   "cell_type": "markdown",
   "metadata": {},
   "source": [
    "### Null Accuracy\n",
    "\n",
    "Null accuracy measures what our expected accuracy should be if we were to **use the most frequent response (most frequent class) as our prediction for every new sample we see.** It is a baseline against which you may want to measure your classifier, especially when your classes are really unbalanced.\n",
    "\n",
    "In class 5, when we learned about [Logistic Regression](https://en.wikipedia.org/wiki/Logistic_regression), we attempted to build a predictive model on a dataset that was fairly unbalanced (the vertebral column dataset from UCI).\n",
    "\n",
    "Let's use that dataset again to measure null accuracy, and see whether a basic Logistic Regression model can give higher test set accuracy than this:"
   ]
  },
  {
   "cell_type": "code",
   "execution_count": 2,
   "metadata": {},
   "outputs": [
    {
     "name": "stdout",
     "output_type": "stream",
     "text": [
      "Test set accuracy of LR model:  0.870967741935\n"
     ]
    }
   ],
   "source": [
    "vertebral_data = pd.read_csv(\"../data/vertebral_column_2_categories.dat\",sep=\" \", \n",
    "                             names=[\"pelvic_incidence\",\"pelvic_tilt\",\"lumbar_lordosis_angle\",\n",
    "                                    \"sacral_slope\",\"pelvic_radius\",\"spondy_grade\",\"outcome\"])\n",
    "vertebral_data.outcome.value_counts()\n",
    "vertebral_data.outcome = (vertebral_data.outcome ==\"AB\").astype(int)\n",
    "X = vertebral_data[vertebral_data.columns.tolist()[:-1]]\n",
    "y = vertebral_data.outcome\n",
    "\n",
    "X_train, X_test, y_train, y_test = train_test_split(X, y, test_size=0.3,random_state=1)\n",
    "\n",
    "lr = LogisticRegression(C=1e9)\n",
    "lr.fit(X_train,y_train)\n",
    "y_test_pred = lr.predict(X_test)\n",
    "\n",
    "print \"Test set accuracy of LR model: \",metrics.accuracy_score(y_test, y_test_pred)"
   ]
  },
  {
   "cell_type": "markdown",
   "metadata": {},
   "source": [
    "**What is the null accuracy here?**\n",
    "\n",
    "It is simply the fraction of `AB` (class 1) samples in the test set (since that is the most frequent class in the whole dataset):"
   ]
  },
  {
   "cell_type": "code",
   "execution_count": 3,
   "metadata": {},
   "outputs": [
    {
     "name": "stdout",
     "output_type": "stream",
     "text": [
      "Null accuracy on the test set:  0.709677419355\n"
     ]
    }
   ],
   "source": [
    "# compute null accuracy manually\n",
    "print \"Null accuracy on the test set: \",y_test.mean()"
   ]
  },
  {
   "cell_type": "markdown",
   "metadata": {},
   "source": [
    "We can compute this using the scikit-learn api by creating what's called a `DummyClassifier`.\n",
    "\n",
    "It can create a variety of dummy models based on simple statistics it is trained on.\n",
    "\n",
    "We are going to create one where the model simply predicts the most frequent class, by passing in a `string` to the `strategy` parameter when we generate the unfitted model: "
   ]
  },
  {
   "cell_type": "code",
   "execution_count": 4,
   "metadata": {},
   "outputs": [
    {
     "name": "stdout",
     "output_type": "stream",
     "text": [
      "Most frequent class dummy classifier test accuracy:  0.709677419355\n"
     ]
    }
   ],
   "source": [
    "from sklearn.dummy import DummyClassifier\n",
    "dumb_model = DummyClassifier(strategy='most_frequent')\n",
    "dumb_model.fit(X_train, y_train)\n",
    "y_dumb_class = dumb_model.predict(X_test)\n",
    "print \"Most frequent class dummy classifier test accuracy: \",metrics.accuracy_score(y_test, y_dumb_class)"
   ]
  },
  {
   "cell_type": "markdown",
   "metadata": {},
   "source": [
    "#### Exercise Time\n",
    "\n",
    "* Use the same dummy classifier approach and train an LR model using 10-fold cross validation and compute the accuracy score of each model.\n",
    "* Do the same with 30-fold cross validation and plot both test-set accuracy distributions. Are the two distributions overlapping? If they aren't what does that mean?"
   ]
  },
  {
   "cell_type": "code",
   "execution_count": 5,
   "metadata": {},
   "outputs": [],
   "source": [
    "pass"
   ]
  },
  {
   "cell_type": "markdown",
   "metadata": {},
   "source": [
    "### Confusion Matrix\n",
    "\n",
    "In order to more fully understand the kinds of mistakes the model is making, we need to investigate what is called the **confusion matrix** of the model on unseen (test) data. The confusion matrix simply counts the number of predictions that fall into each possible prediction bucket.\n",
    "\n",
    "So, for a 2-class classification problem, there are 4 \"prediction buckets\":\n",
    "  * predict 0 (normal), actual 0 (normal) - called a **correct rejection/true negative**\n",
    "  * predict 0 (normal), actual 1 (abnormal) <-- this is an error called a **miss/false negative**\n",
    "  * predict 1 (abnormal), actual 0 (normal) <-- this is an error called a **false alarm/false positive**\n",
    "  * predict 1 (abnormal), actual 1 (abnormal) - called a **hit/true positive**\n",
    "  \n",
    "![confusion matrix](./images/confusion_matrix.png)\n",
    "\n",
    "Let's compute the confusion matrix on the test set for our Logistic Regression model:"
   ]
  },
  {
   "cell_type": "code",
   "execution_count": 6,
   "metadata": {},
   "outputs": [
    {
     "data": {
      "text/plain": [
       "array([[21,  6],\n",
       "       [ 6, 60]])"
      ]
     },
     "execution_count": 6,
     "metadata": {},
     "output_type": "execute_result"
    }
   ],
   "source": [
    "# confusion matrix\n",
    "cm = metrics.confusion_matrix(y_test, y_test_pred)\n",
    "cm"
   ]
  },
  {
   "cell_type": "markdown",
   "metadata": {},
   "source": [
    "By convention in a confusion matrix, the actual categories are the rows and the predicted values are the columns. Our confusion matrix shows that on the test set we have an equal number of misses and false alarms (both values are 6).\n",
    "\n",
    "We can break down the confusion matrix into a variety of single-value metrics that answer specific questions about how our model is expected to fare on new data:\n",
    "\n",
    "  * **sensitivity/true positive rate(TPR)/recall:** What fraction of the \"abnormal\" samples in unseen data did we correctly predict? \n",
    "  $$ TPR = \\frac {\\sum TP}{\\sum (TP+FN)}$$\n",
    "  * **specificity/true negative rate(TNR):** What fraction of \"normal\" samples in unseen data did we correctly predict?  \n",
    "  $$ TNR = \\frac {\\sum TN}{\\sum (TN+FP)}$$\n",
    "  * **precision/positive predictive value(PPV)** How frequently is our model correct when it predicts \"abnormal\" on new data?\n",
    "  $$ PPV = \\frac {\\sum TP}{\\sum (TP+FP)}$$\n",
    "  * **negative predictive value (NPV):** How frequently is our model correct when it predicts \"normal\" on new data? \n",
    "  $$ NPV = \\frac {\\sum TN}{\\sum (TN+FN)}$$\n",
    "  * **accuracy (ACC):** How frequently is our model correct on all new data, regardless of class?\n",
    "  $$ ACC = \\frac {\\sum (TN+TP)}{\\sum (TN+FN+TP+FP)}$$\n",
    "  * **F1 score (F1): ** The harmonic mean of precision and recall:\n",
    "  $$ F1 = 2*\\frac {Precision*Recall}{Precision+Recall}$$"
   ]
  },
  {
   "cell_type": "code",
   "execution_count": 7,
   "metadata": {},
   "outputs": [
    {
     "name": "stdout",
     "output_type": "stream",
     "text": [
      "Sensitivity/Recall (TPR):  0.909090909091\n",
      "Specificity (TNR):  0.777777777778\n",
      "Precision (PPV):  0.909090909091\n",
      "NPV:  0.777777777778\n",
      "Accuracy:  0.870967741935\n",
      "F1: 0.909090909091\n"
     ]
    }
   ],
   "source": [
    "# calculate each metric by hand\n",
    "print \"Sensitivity/Recall (TPR): \",cm[1,1] / float(cm[1,1] + cm[1,0])\n",
    "print \"Specificity (TNR): \", cm[0,0] / float(cm[0,0] + cm[0,1])\n",
    "print \"Precision (PPV): \", cm[1,1] / float(cm[1,1]+cm[0,1])\n",
    "print \"NPV: \", cm[0,0] / float(cm[0,0]+cm[1,0])\n",
    "print \"Accuracy: \", (cm[1,1]+cm[0,0]) / float(cm.sum())\n",
    "print \"F1:\", metrics.f1_score(y_test,y_test_pred)"
   ]
  },
  {
   "cell_type": "code",
   "execution_count": 8,
   "metadata": {},
   "outputs": [
    {
     "name": "stdout",
     "output_type": "stream",
     "text": [
      "Sensitivity/Recall (TPR):  0.909090909091\n",
      "Precision (PPV):  0.909090909091\n",
      "Accuracy:  0.870967741935\n",
      "F1: 0.909090909091\n"
     ]
    }
   ],
   "source": [
    "# calculate some of these metrics using sklearn and the test set samples\n",
    "print \"Sensitivity/Recall (TPR): \",metrics.recall_score(y_test,y_test_pred)\n",
    "print \"Precision (PPV): \", metrics.precision_score(y_test,y_test_pred)\n",
    "print \"Accuracy: \", metrics.accuracy_score(y_test,y_test_pred)\n",
    "print \"F1:\", metrics.f1_score(y_test,y_test_pred)"
   ]
  },
  {
   "cell_type": "markdown",
   "metadata": {},
   "source": [
    "Or we can compute the full classification report, which will give us precision/recall per-feature:"
   ]
  },
  {
   "cell_type": "code",
   "execution_count": 9,
   "metadata": {},
   "outputs": [
    {
     "name": "stdout",
     "output_type": "stream",
     "text": [
      "Classification Report:\n",
      "             precision    recall  f1-score   support\n",
      "\n",
      "          0       0.78      0.78      0.78        27\n",
      "          1       0.91      0.91      0.91        66\n",
      "\n",
      "avg / total       0.87      0.87      0.87        93\n",
      "\n"
     ]
    }
   ],
   "source": [
    "print \"Classification Report:\\n\", metrics.classification_report(y_test,y_test_pred)"
   ]
  },
  {
   "cell_type": "markdown",
   "metadata": {},
   "source": [
    "### ROC Curves and AUC\n",
    "\n",
    "So far, we've working with the thresholded decisions a given classifier/model makes when it outputs a prediction (all we've been looking at is the predicted category of trained models). \n",
    "\n",
    "However, many classifiers (including both **logistic regression** and **random forest** models) can output a \"confidence\" associated with their prediction (this is called a **prediction probability**). \n",
    "\n",
    "Let's take a look at the prediction probabilites and the predictions of our original logistic regression classifier on our single test set:"
   ]
  },
  {
   "cell_type": "code",
   "execution_count": 13,
   "metadata": {},
   "outputs": [
    {
     "name": "stdout",
     "output_type": "stream",
     "text": [
      "Logistic Regression predicted probabilities for first five samples in test set:\n",
      "[[ 0.018  0.982]\n",
      " [ 0.111  0.889]\n",
      " [ 0.011  0.989]\n",
      " [ 0.094  0.906]\n",
      " [ 0.01   0.99 ]]\n",
      "Logistic Regression predictions for first five samples in test set:\n",
      "[1 1 1 1 1]\n"
     ]
    },
    {
     "name": "stderr",
     "output_type": "stream",
     "text": [
      "/usr/local/lib/python2.7/site-packages/ipykernel_launcher.py:10: FutureWarning: reshape is deprecated and will raise in a subsequent release. Please use .values.reshape(...) instead\n",
      "  # Remove the CWD from sys.path while we load stuff.\n"
     ]
    },
    {
     "data": {
      "text/html": [
       "<div>\n",
       "<style>\n",
       "    .dataframe thead tr:only-child th {\n",
       "        text-align: right;\n",
       "    }\n",
       "\n",
       "    .dataframe thead th {\n",
       "        text-align: left;\n",
       "    }\n",
       "\n",
       "    .dataframe tbody tr th {\n",
       "        vertical-align: top;\n",
       "    }\n",
       "</style>\n",
       "<table border=\"1\" class=\"dataframe\">\n",
       "  <thead>\n",
       "    <tr style=\"text-align: right;\">\n",
       "      <th></th>\n",
       "      <th>class_0</th>\n",
       "      <th>class_1</th>\n",
       "      <th>predicted</th>\n",
       "      <th>actual</th>\n",
       "    </tr>\n",
       "  </thead>\n",
       "  <tbody>\n",
       "    <tr>\n",
       "      <th>0</th>\n",
       "      <td>0.018</td>\n",
       "      <td>0.982</td>\n",
       "      <td>1.0</td>\n",
       "      <td>1.0</td>\n",
       "    </tr>\n",
       "    <tr>\n",
       "      <th>1</th>\n",
       "      <td>0.111</td>\n",
       "      <td>0.889</td>\n",
       "      <td>1.0</td>\n",
       "      <td>0.0</td>\n",
       "    </tr>\n",
       "    <tr>\n",
       "      <th>2</th>\n",
       "      <td>0.011</td>\n",
       "      <td>0.989</td>\n",
       "      <td>1.0</td>\n",
       "      <td>1.0</td>\n",
       "    </tr>\n",
       "    <tr>\n",
       "      <th>3</th>\n",
       "      <td>0.094</td>\n",
       "      <td>0.906</td>\n",
       "      <td>1.0</td>\n",
       "      <td>1.0</td>\n",
       "    </tr>\n",
       "    <tr>\n",
       "      <th>4</th>\n",
       "      <td>0.010</td>\n",
       "      <td>0.990</td>\n",
       "      <td>1.0</td>\n",
       "      <td>1.0</td>\n",
       "    </tr>\n",
       "  </tbody>\n",
       "</table>\n",
       "</div>"
      ],
      "text/plain": [
       "   class_0  class_1  predicted  actual\n",
       "0    0.018    0.982        1.0     1.0\n",
       "1    0.111    0.889        1.0     0.0\n",
       "2    0.011    0.989        1.0     1.0\n",
       "3    0.094    0.906        1.0     1.0\n",
       "4    0.010    0.990        1.0     1.0"
      ]
     },
     "execution_count": 13,
     "metadata": {},
     "output_type": "execute_result"
    }
   ],
   "source": [
    "#lr probabilities per category for first five samples\n",
    "predicted_probs_lr = lr.predict_proba(X_test).round(3)\n",
    "predictions_lr = lr.predict(X_test)\n",
    "\n",
    "print \"Logistic Regression predicted probabilities for first five samples in test set:\\n\",predicted_probs_lr[:5]\n",
    "print \"Logistic Regression predictions for first five samples in test set:\\n\",predictions_lr[:5]\n",
    "y_test_lr_df = pd.DataFrame(\n",
    "    np.concatenate((\n",
    "        predicted_probs_lr,predictions_lr.reshape((predictions_lr.shape[0],-1)),\n",
    "        y_test.reshape((y_test.shape[0],-1))),axis=1\n",
    "    ),\n",
    "    columns = [\"class_0\",\"class_1\",\"predicted\",\"actual\"])\n",
    "\n",
    "y_test_lr_df.head()"
   ]
  },
  {
   "cell_type": "markdown",
   "metadata": {},
   "source": [
    "Lets generate the same table of predicted probabilities, predictions, and actual values, for a trained random forest classifier that contains 100 trees:"
   ]
  },
  {
   "cell_type": "code",
   "execution_count": 14,
   "metadata": {},
   "outputs": [
    {
     "name": "stderr",
     "output_type": "stream",
     "text": [
      "/usr/local/lib/python2.7/site-packages/ipykernel_launcher.py:10: FutureWarning: reshape is deprecated and will raise in a subsequent release. Please use .values.reshape(...) instead\n",
      "  # Remove the CWD from sys.path while we load stuff.\n"
     ]
    },
    {
     "data": {
      "text/html": [
       "<div>\n",
       "<style>\n",
       "    .dataframe thead tr:only-child th {\n",
       "        text-align: right;\n",
       "    }\n",
       "\n",
       "    .dataframe thead th {\n",
       "        text-align: left;\n",
       "    }\n",
       "\n",
       "    .dataframe tbody tr th {\n",
       "        vertical-align: top;\n",
       "    }\n",
       "</style>\n",
       "<table border=\"1\" class=\"dataframe\">\n",
       "  <thead>\n",
       "    <tr style=\"text-align: right;\">\n",
       "      <th></th>\n",
       "      <th>class_0</th>\n",
       "      <th>class_1</th>\n",
       "      <th>predicted</th>\n",
       "      <th>actual</th>\n",
       "    </tr>\n",
       "  </thead>\n",
       "  <tbody>\n",
       "    <tr>\n",
       "      <th>0</th>\n",
       "      <td>0.07</td>\n",
       "      <td>0.93</td>\n",
       "      <td>1.0</td>\n",
       "      <td>1.0</td>\n",
       "    </tr>\n",
       "    <tr>\n",
       "      <th>1</th>\n",
       "      <td>0.38</td>\n",
       "      <td>0.62</td>\n",
       "      <td>1.0</td>\n",
       "      <td>0.0</td>\n",
       "    </tr>\n",
       "    <tr>\n",
       "      <th>2</th>\n",
       "      <td>0.06</td>\n",
       "      <td>0.94</td>\n",
       "      <td>1.0</td>\n",
       "      <td>1.0</td>\n",
       "    </tr>\n",
       "    <tr>\n",
       "      <th>3</th>\n",
       "      <td>0.05</td>\n",
       "      <td>0.95</td>\n",
       "      <td>1.0</td>\n",
       "      <td>1.0</td>\n",
       "    </tr>\n",
       "    <tr>\n",
       "      <th>4</th>\n",
       "      <td>0.18</td>\n",
       "      <td>0.82</td>\n",
       "      <td>1.0</td>\n",
       "      <td>1.0</td>\n",
       "    </tr>\n",
       "  </tbody>\n",
       "</table>\n",
       "</div>"
      ],
      "text/plain": [
       "   class_0  class_1  predicted  actual\n",
       "0     0.07     0.93        1.0     1.0\n",
       "1     0.38     0.62        1.0     0.0\n",
       "2     0.06     0.94        1.0     1.0\n",
       "3     0.05     0.95        1.0     1.0\n",
       "4     0.18     0.82        1.0     1.0"
      ]
     },
     "execution_count": 14,
     "metadata": {},
     "output_type": "execute_result"
    }
   ],
   "source": [
    "rf = RandomForestClassifier(n_estimators=100)\n",
    "rf.fit(X_train,y_train)\n",
    "\n",
    "predicted_probs_rf = rf.predict_proba(X_test)\n",
    "predictions_rf = rf.predict(X_test)\n",
    "\n",
    "y_test_rf_df = pd.DataFrame(\n",
    "    np.concatenate((\n",
    "        predicted_probs_rf,predictions_rf.reshape((predictions_rf.shape[0],-1)),\n",
    "        y_test.reshape((y_test.shape[0],-1))),axis=1\n",
    "    ),\n",
    "    columns = [\"class_0\",\"class_1\",\"predicted\",\"actual\"])\n",
    "\n",
    "y_test_rf_df.head()"
   ]
  },
  {
   "cell_type": "markdown",
   "metadata": {},
   "source": [
    "In both of these cases, the prediction threshold (for either class) is set to 0.5, so the class with the probability that is over 0.5 is the predicted class.\n",
    "\n",
    "**However, 0.5 doesn't necessarily have to be the threshold we use for our classifier's decision threshold!**\n",
    "\n",
    "For example, we might want to be VERY CERTAIN that the classifier thinks something is class 1 (for example, a likelihood of cancer presence given some test results). \n",
    "\n",
    "In that case, we would require that the class 1 probability is > 0.8 (for example). As a result, the ratio of TP/TN/FN/FP would change, yielding a new confusion matrix, with a new set of precision/recall/accuracy estimates.\n",
    "\n",
    "**In general, the default probability threshold for a given classifier maximizes accuracy, but not the other metrics like precision, recall, etc.**\n",
    "\n",
    "But, what if we varied the prediction thresholds to obtain different TP/TN/FP/FN values (different confusion matrices) across all possible threshold values for our classifier?\n",
    "\n",
    "This is exactly what an [ROC (Receiver Operating Characteristic) curve](https://en.wikipedia.org/wiki/Receiver_operating_characteristic) does.\n",
    "\n",
    "**An ROC Curve is a graphical plot that illustrates the performance of a binary classifier system as its discrimination threshold is systematically varied.**\n",
    "\n",
    "Let's generate the ROC curves for both of our models:"
   ]
  },
  {
   "cell_type": "code",
   "execution_count": 15,
   "metadata": {},
   "outputs": [
    {
     "data": {
      "text/plain": [
       "<matplotlib.text.Text at 0x10ef68410>"
      ]
     },
     "execution_count": 15,
     "metadata": {},
     "output_type": "execute_result"
    },
    {
     "data": {
      "image/png": "[encoded data removed]",
      "text/plain": [
       "<matplotlib.figure.Figure at 0x10ef68690>"
      ]
     },
     "metadata": {},
     "output_type": "display_data"
    }
   ],
   "source": [
    "#generate lr model false positive and true positive rates\n",
    "fpr_lr, tpr_lr, thresholds_lr = metrics.roc_curve(y_test, predicted_probs_lr[:,1])\n",
    "\n",
    "#generate same for random forest model\n",
    "fpr_rf, tpr_rf, thresholds_rf = metrics.roc_curve(y_test, predicted_probs_rf[:,1])\n",
    "\n",
    "# plot LR and RF model ROC curves\n",
    "sns.plt.plot(fpr_lr, tpr_lr,label=\"lr\")\n",
    "sns.plt.plot(fpr_rf, tpr_rf,label=\"rf\")\n",
    "sns.plt.xlim([0, 1])\n",
    "sns.plt.ylim([0, 1.05])\n",
    "sns.plt.legend(loc=\"lower right\")\n",
    "sns.plt.xlabel('False Positive Rate (1 - Specificity)')\n",
    "sns.plt.ylabel('True Positive Rate (Sensitivity)')"
   ]
  },
  {
   "cell_type": "markdown",
   "metadata": {},
   "source": [
    "The ROC curve allows you to balance how many FN's (misses) and FP's (false alarms) you're willing to have with respect to one of your classes.\n",
    "\n",
    "There's a metric that allows you to quantify the overall performance of your binary classifier, regardless of the threshold you choose. This metric is called the **AUC (area under the curve)**, and is a systematic way to compare two classifiers relative to each other, across all decision thresholds. If model A has a higher AUC than model B then this means that on average, model A is a better classifier across all decision thresholds (all probabilities). \n",
    "\n",
    "Besides allowing you to calculate AUC, seeing the ROC curve can help you to choose a threshold that **balances sensitivity and specificity** in a way that makes sense for the particular context."
   ]
  },
  {
   "cell_type": "code",
   "execution_count": 16,
   "metadata": {},
   "outputs": [
    {
     "name": "stdout",
     "output_type": "stream",
     "text": [
      "LR model AUC:  0.935746352413\n",
      "RF model AUC:  0.924242424242\n"
     ]
    }
   ],
   "source": [
    "# calculate AUC for lr and rf\n",
    "print \"LR model AUC: \",metrics.roc_auc_score(y_test, predicted_probs_lr[:,1])\n",
    "print \"RF model AUC: \",metrics.roc_auc_score(y_test, predicted_probs_rf[:,1])"
   ]
  },
  {
   "cell_type": "markdown",
   "metadata": {},
   "source": [
    "Let's make this more explicit. Let's say instead of using 0.5 as the probability threshold for class 1, we want the probability threshold where the false positive rate is no higher than 12% (because additional false positives cost too much money, or time, etc.). \n",
    "\n",
    "Let's take a look at a graph of the ROC curve and the class 1 thresholds as a function of FPR:"
   ]
  },
  {
   "cell_type": "code",
   "execution_count": 17,
   "metadata": {},
   "outputs": [
    {
     "data": {
      "text/plain": [
       "<matplotlib.text.Text at 0x10f118ad0>"
      ]
     },
     "execution_count": 17,
     "metadata": {},
     "output_type": "execute_result"
    },
    {
     "data": {
      "image/png": "[encoded data removed]",
      "text/plain": [
       "<matplotlib.figure.Figure at 0x10f016410>"
      ]
     },
     "metadata": {},
     "output_type": "display_data"
    }
   ],
   "source": [
    "# plot LR and RF model ROC curves\n",
    "sns.plt.plot(fpr_lr, tpr_lr,label=\"lr\")\n",
    "sns.plt.plot(fpr_lr,thresholds_lr, label=\"lr_thresh\")\n",
    "sns.plt.xlim([0, 1])\n",
    "sns.plt.ylim([0, 1.05])\n",
    "sns.plt.legend(loc=\"center\")\n",
    "sns.plt.xlabel('False Positive Rate (1 - Specificity)')\n",
    "sns.plt.ylabel('True Positive Rate (Sensitivity) or Class 1 Threshold Probability')\n"
   ]
  },
  {
   "cell_type": "markdown",
   "metadata": {},
   "source": [
    "It looks like the threshold that satisfies our criteria is ~0.7. Let's use this new threshold to generate our predictions and see what our new confusion matrix looks like:"
   ]
  },
  {
   "cell_type": "code",
   "execution_count": 18,
   "metadata": {},
   "outputs": [
    {
     "name": "stdout",
     "output_type": "stream",
     "text": [
      "   class_0  class_1  predicted  actual  predicted_07\n",
      "0    0.018    0.982        1.0     1.0           1.0\n",
      "1    0.111    0.889        1.0     0.0           1.0\n",
      "2    0.011    0.989        1.0     1.0           1.0\n",
      "3    0.094    0.906        1.0     1.0           1.0\n",
      "4    0.010    0.990        1.0     1.0           1.0\n",
      "Confusion matrix at original 0.5 threshold:\n",
      "[[21  6]\n",
      " [ 6 60]] \n",
      "\n",
      "Classification Report at original 0.5 threshold:\n",
      "             precision    recall  f1-score   support\n",
      "\n",
      "        0.0       0.78      0.78      0.78        27\n",
      "        1.0       0.91      0.91      0.91        66\n",
      "\n",
      "avg / total       0.87      0.87      0.87        93\n",
      "\n",
      "\n",
      "Confusion matrix at 0.7 threshold:\n",
      "[[24  3]\n",
      " [11 55]] \n",
      "\n",
      "Classification Report at 0.7 threshold:\n",
      "             precision    recall  f1-score   support\n",
      "\n",
      "        0.0       0.69      0.89      0.77        27\n",
      "        1.0       0.95      0.83      0.89        66\n",
      "\n",
      "avg / total       0.87      0.85      0.85        93\n",
      "\n"
     ]
    }
   ],
   "source": [
    "y_test_lr_df[\"predicted_07\"] = (y_test_lr_df.class_1 > 0.7).astype(float)\n",
    "print y_test_lr_df.head()\n",
    "print \"Confusion matrix at original 0.5 threshold:\\n\",metrics.confusion_matrix(y_test_lr_df.actual,\n",
    "                                                                      y_test_lr_df.predicted),\"\\n\"\n",
    "print \"Classification Report at original 0.5 threshold:\\n\", metrics.classification_report(y_test_lr_df.actual,\n",
    "                                                                                          y_test_lr_df.predicted),\"\\n\"\n",
    "print \"Confusion matrix at 0.7 threshold:\\n\",metrics.confusion_matrix(y_test_lr_df.actual,\n",
    "                                                                      y_test_lr_df.predicted_07),\"\\n\"\n",
    "print \"Classification Report at 0.7 threshold:\\n\", metrics.classification_report(y_test_lr_df.actual,\n",
    "                                                                                 y_test_lr_df.predicted_07)"
   ]
  },
  {
   "cell_type": "markdown",
   "metadata": {},
   "source": [
    "As a result, we've now increased our precision for class 1 (we are more certain someone has a back problem, when our classifier says you have a back problem), but have also lowered our recall for class 1 (now, more people with back problems will go un-identified by our classifier). The opposite occurs for precision and recall for class 0 as a result.\n",
    "\n",
    "**So, depending on what you want to maximize or minimize for your machine learning application, your decision threshold for your (completely trained) classifier will differ.**"
   ]
  },
  {
   "cell_type": "markdown",
   "metadata": {},
   "source": [
    "**One final important point about computing the AUC, you have to use the predicted probabilities, not the class labels themselves when computing an ROC curve or AUC.**\n",
    "\n",
    "If you use y_pred_class, it will not give you an error, rather it will interpret the ones and zeros as predicted probabilities of 100% and 0%, and thus will give you incorrect results:"
   ]
  },
  {
   "cell_type": "code",
   "execution_count": 19,
   "metadata": {},
   "outputs": [
    {
     "name": "stdout",
     "output_type": "stream",
     "text": [
      "Wrong way to calculate LR model AUC:  0.843434343434\n",
      "Wrong way to calculate RF model AUC:  0.81734006734\n"
     ]
    }
   ],
   "source": [
    "# calculate AUC using y_pred_class (producing incorrect results)\n",
    "print \"Wrong way to calculate LR model AUC: \",metrics.roc_auc_score(y_test, predictions_lr)\n",
    "print \"Wrong way to calculate RF model AUC: \",metrics.roc_auc_score(y_test, predictions_rf)"
   ]
  },
  {
   "cell_type": "markdown",
   "metadata": {},
   "source": [
    "As a final way to compare the two models, let's see if we can look at each of their predicted probabilites on the test set as a function of the actual category (the target):"
   ]
  },
  {
   "cell_type": "code",
   "execution_count": 20,
   "metadata": {},
   "outputs": [
    {
     "data": {
      "text/plain": [
       "array([<matplotlib.axes._subplots.AxesSubplot object at 0x10f4374d0>,\n",
       "       <matplotlib.axes._subplots.AxesSubplot object at 0x10f46f250>], dtype=object)"
      ]
     },
     "execution_count": 20,
     "metadata": {},
     "output_type": "execute_result"
    },
    {
     "data": {
      "image/png": "[encoded data removed]",
      "text/plain": [
       "<matplotlib.figure.Figure at 0x10f118250>"
      ]
     },
     "metadata": {},
     "output_type": "display_data"
    },
    {
     "data": {
      "image/png": "[encoded data removed]",
      "text/plain": [
       "<matplotlib.figure.Figure at 0x10f42ef90>"
      ]
     },
     "metadata": {},
     "output_type": "display_data"
    }
   ],
   "source": [
    "# histogram of predicted probabilities grouped by actual response value for LR\n",
    "y_test_lr_df.class_1.hist(by= y_test_lr_df.actual, sharex=True, sharey=True)\n",
    "#same for RF\n",
    "y_test_rf_df.class_1.hist(by= y_test_rf_df.actual, sharex=True, sharey=True)"
   ]
  },
  {
   "cell_type": "markdown",
   "metadata": {},
   "source": [
    "Depending on what threshold we choose will affect what part of each histogram consists of misclassified examples.\n",
    "\n",
    "Nonetheless, it is fruitful at this point to examine all of those test-set samples that each classifier was \"very certain\" about (had very high or very low probability) but was of the wrong category (a class 0 sample that had a very high probability or a class 1 sample with a probability very close to 0)."
   ]
  },
  {
   "cell_type": "markdown",
   "metadata": {},
   "source": [
    "### All that matters for ROC/AUC is the order of the probabilities, not their values\n",
    "\n",
    "Let's go through our vertebral data example from start to finish to demonstrate a very important point:"
   ]
  },
  {
   "cell_type": "code",
   "execution_count": 21,
   "metadata": {},
   "outputs": [
    {
     "name": "stdout",
     "output_type": "stream",
     "text": [
      "Test set accuracy of default 0.5 threshold LR model:  0.860215053763\n"
     ]
    }
   ],
   "source": [
    "#load in data\n",
    "vertebral_data = pd.read_csv(\"../data/vertebral_column_2_categories.dat\",sep=\" \", \n",
    "                             names=[\"pelvic_incidence\",\"pelvic_tilt\",\"lumbar_lordosis_angle\",\n",
    "                                    \"sacral_slope\",\"pelvic_radius\",\"spondy_grade\",\"outcome\"])\n",
    "\n",
    "#convert outcome into binary 0/1 attribute\n",
    "le = LabelEncoder()\n",
    "vertebral_data.outcome = le.fit_transform(vertebral_data.outcome)\n",
    "X = vertebral_data[vertebral_data.columns.tolist()[:-1]]\n",
    "y = vertebral_data.outcome\n",
    "\n",
    "#create train/test split\n",
    "X_train, X_test, y_train, y_test = train_test_split(X, y, test_size=0.3,random_state=1)\n",
    "#create logistic regression object\n",
    "lr = LogisticRegression()\n",
    "lr.fit(X_train,y_train)\n",
    "y_test_pred = lr.predict(X_test)\n",
    "\n",
    "print \"Test set accuracy of default 0.5 threshold LR model: \",metrics.accuracy_score(y_test, y_test_pred)"
   ]
  },
  {
   "cell_type": "code",
   "execution_count": 22,
   "metadata": {},
   "outputs": [
    {
     "data": {
      "text/plain": [
       "(array([ 39.,   8.,   5.,   7.,   4.,   5.,   5.,   7.,  11.,   2.]),\n",
       " array([  6.81214912e-10,   9.89456134e-02,   1.97891226e-01,\n",
       "          2.96836839e-01,   3.95782452e-01,   4.94728064e-01,\n",
       "          5.93673677e-01,   6.92619290e-01,   7.91564903e-01,\n",
       "          8.90510515e-01,   9.89456128e-01]),\n",
       " <a list of 10 Patch objects>)"
      ]
     },
     "execution_count": 22,
     "metadata": {},
     "output_type": "execute_result"
    },
    {
     "data": {
      "image/png": "[encoded data removed]",
      "text/plain": [
       "<matplotlib.figure.Figure at 0x10f725290>"
      ]
     },
     "metadata": {},
     "output_type": "display_data"
    }
   ],
   "source": [
    "# calculate predicted probabilities for class 1\n",
    "y_pred_prob1 = lr.predict_proba(X_test)[:, 1]\n",
    "# show predicted probabilities in a histogram\n",
    "sns.plt.hist(y_pred_prob1)"
   ]
  },
  {
   "cell_type": "code",
   "execution_count": 23,
   "metadata": {},
   "outputs": [
    {
     "data": {
      "text/plain": [
       "0.94837261503928172"
      ]
     },
     "execution_count": 23,
     "metadata": {},
     "output_type": "execute_result"
    }
   ],
   "source": [
    "# calculate AUC\n",
    "metrics.roc_auc_score(y_test, y_pred_prob1)"
   ]
  },
  {
   "cell_type": "code",
   "execution_count": 24,
   "metadata": {},
   "outputs": [
    {
     "data": {
      "text/plain": [
       "<matplotlib.text.Text at 0x10f515e50>"
      ]
     },
     "execution_count": 24,
     "metadata": {},
     "output_type": "execute_result"
    },
    {
     "data": {
      "image/png": "[encoded data removed]",
      "text/plain": [
       "<matplotlib.figure.Figure at 0x10f8dd750>"
      ]
     },
     "metadata": {},
     "output_type": "display_data"
    }
   ],
   "source": [
    "# plot ROC curve\n",
    "fpr, tpr, thresholds = metrics.roc_curve(y_test, y_pred_prob1)\n",
    "sns.plt.plot(fpr, tpr)\n",
    "sns.plt.xlim([0, 1])\n",
    "sns.plt.ylim([0, 1.05])\n",
    "sns.plt.xlabel('False Positive Rate (1 - Specificity)')\n",
    "sns.plt.ylabel('True Positive Rate (Sensitivity)')"
   ]
  },
  {
   "cell_type": "markdown",
   "metadata": {},
   "source": [
    "### First Demonstration: Take the square root of predicted probabilities (makes them all bigger, but preserve the order of probabilities)"
   ]
  },
  {
   "cell_type": "code",
   "execution_count": 25,
   "metadata": {
    "collapsed": true
   },
   "outputs": [],
   "source": [
    "# change the predicted probabilities\n",
    "y_pred_prob2 = np.sqrt(y_pred_prob1)"
   ]
  },
  {
   "cell_type": "code",
   "execution_count": 26,
   "metadata": {},
   "outputs": [
    {
     "name": "stdout",
     "output_type": "stream",
     "text": [
      "Old predicted probs:\n",
      "[ 0.036  0.19   0.004  0.038  0.013  0.143  0.86   0.001  0.     0.83 ]\n"
     ]
    }
   ],
   "source": [
    "# here are the old ones (y_pred_prob1)\n",
    "print \"Old predicted probs:\\n\",y_pred_prob1[:10].round(3)"
   ]
  },
  {
   "cell_type": "code",
   "execution_count": 27,
   "metadata": {},
   "outputs": [
    {
     "name": "stdout",
     "output_type": "stream",
     "text": [
      "New predicted probs:\n",
      "[ 0.19   0.436  0.063  0.194  0.114  0.379  0.927  0.036  0.013  0.911]\n"
     ]
    }
   ],
   "source": [
    "# here are the new ones (y_pred_prob2)\n",
    "print \"New predicted probs:\\n\",y_pred_prob2[:10].round(3)"
   ]
  },
  {
   "cell_type": "code",
   "execution_count": 28,
   "metadata": {},
   "outputs": [
    {
     "data": {
      "text/plain": [
       "(array([ 23.,  12.,   4.,   7.,   2.,   6.,   9.,   7.,  10.,  13.]),\n",
       " array([  2.61000941e-05,   9.94948994e-02,   1.98963699e-01,\n",
       "          2.98432498e-01,   3.97901297e-01,   4.97370097e-01,\n",
       "          5.96838896e-01,   6.96307696e-01,   7.95776495e-01,\n",
       "          8.95245294e-01,   9.94714094e-01]),\n",
       " <a list of 10 Patch objects>)"
      ]
     },
     "execution_count": 28,
     "metadata": {},
     "output_type": "execute_result"
    },
    {
     "data": {
      "image/png": "[encoded data removed]",
      "text/plain": [
       "<matplotlib.figure.Figure at 0x10f331790>"
      ]
     },
     "metadata": {},
     "output_type": "display_data"
    }
   ],
   "source": [
    "# you can see the histogram changed\n",
    "figure = sns.plt.figure(figsize=(12,8))\n",
    "figure.add_subplot(121)\n",
    "sns.plt.title(\"Original histogram of predicted probabilities\")\n",
    "sns.plt.hist(y_pred_prob1)\n",
    "figure.add_subplot(122)\n",
    "sns.plt.title(\"Histogram of square root predicted probabilities\")\n",
    "sns.plt.hist(y_pred_prob2)"
   ]
  },
  {
   "cell_type": "code",
   "execution_count": 29,
   "metadata": {},
   "outputs": [
    {
     "name": "stdout",
     "output_type": "stream",
     "text": [
      "Old AUC:  0.948372615039\n",
      "New AUC:  0.948372615039\n"
     ]
    }
   ],
   "source": [
    "# the AUC did not change\n",
    "print \"Old AUC: \",metrics.roc_auc_score(y_test, y_pred_prob1)\n",
    "print \"New AUC: \",metrics.roc_auc_score(y_test, y_pred_prob2)"
   ]
  },
  {
   "cell_type": "code",
   "execution_count": 30,
   "metadata": {},
   "outputs": [
    {
     "data": {
      "text/plain": [
       "[<matplotlib.lines.Line2D at 0x10ff25310>]"
      ]
     },
     "execution_count": 30,
     "metadata": {},
     "output_type": "execute_result"
    },
    {
     "data": {
      "image/png": "[encoded data removed]",
      "text/plain": [
       "<matplotlib.figure.Figure at 0x10fcb1710>"
      ]
     },
     "metadata": {},
     "output_type": "display_data"
    }
   ],
   "source": [
    "# the ROC curve did not change\n",
    "fpr2, tpr2, thresholds2 = metrics.roc_curve(y_test, y_pred_prob2)\n",
    "figure = sns.plt.figure(figsize=(12,8))\n",
    "figure.add_subplot(121)\n",
    "sns.plt.plot(fpr, tpr)\n",
    "sns.plt.title(\"Original ROC Curve\")\n",
    "figure.add_subplot(122)\n",
    "sns.plt.title(\"ROC Curve of sqrt probabilities\")\n",
    "sns.plt.plot(fpr2, tpr2)"
   ]
  },
  {
   "cell_type": "markdown",
   "metadata": {},
   "source": [
    "#### Make small predicted probabilities smaller, and make big predicted probabilities bigger"
   ]
  },
  {
   "cell_type": "code",
   "execution_count": 31,
   "metadata": {},
   "outputs": [
    {
     "data": {
      "text/plain": [
       "array([  1.31152746e-03,   3.61839886e-02,   1.58132911e-05,\n",
       "         1.42392665e-03,   1.71638744e-04,   2.05455604e-02,\n",
       "         9.27159532e-01,   1.60531558e-06,   2.71851161e-08,\n",
       "         9.10841954e-01])"
      ]
     },
     "execution_count": 31,
     "metadata": {},
     "output_type": "execute_result"
    }
   ],
   "source": [
    "y_pred_prob3 = np.where(y_pred_prob1 > 0.5, np.sqrt(y_pred_prob1), y_pred_prob1**2)\n",
    "# you can see these are different from y_pred_prob1 and y_pred_prob2\n",
    "y_pred_prob3[:10]"
   ]
  },
  {
   "cell_type": "code",
   "execution_count": 32,
   "metadata": {},
   "outputs": [
    {
     "data": {
      "text/plain": [
       "(array([ 53.,  10.,   0.,   0.,   0.,   0.,   0.,   7.,  10.,  13.]),\n",
       " array([  4.64053756e-19,   9.94714094e-02,   1.98942819e-01,\n",
       "          2.98414228e-01,   3.97885637e-01,   4.97357047e-01,\n",
       "          5.96828456e-01,   6.96299866e-01,   7.95771275e-01,\n",
       "          8.95242684e-01,   9.94714094e-01]),\n",
       " <a list of 10 Patch objects>)"
      ]
     },
     "execution_count": 32,
     "metadata": {},
     "output_type": "execute_result"
    },
    {
     "data": {
      "image/png": "[encoded data removed]",
      "text/plain": [
       "<matplotlib.figure.Figure at 0x10ff7bdd0>"
      ]
     },
     "metadata": {},
     "output_type": "display_data"
    }
   ],
   "source": [
    "# the histogram changed\n",
    "# you can see the histogram changed\n",
    "figure = sns.plt.figure(figsize=(12,8))\n",
    "figure.add_subplot(131)\n",
    "sns.plt.title(\"Original histogram\")\n",
    "sns.plt.hist(y_pred_prob1)\n",
    "figure.add_subplot(132)\n",
    "sns.plt.title(\"Histogram of square root pred probs\")\n",
    "sns.plt.hist(y_pred_prob2)\n",
    "figure.add_subplot(133)\n",
    "sns.plt.title(\"Histogram of newest pred probs\")\n",
    "sns.plt.hist(y_pred_prob3)"
   ]
  },
  {
   "cell_type": "code",
   "execution_count": 33,
   "metadata": {},
   "outputs": [
    {
     "name": "stdout",
     "output_type": "stream",
     "text": [
      "Original AUC:  0.948372615039\n",
      "Square root probs AUC:  0.948372615039\n",
      "Newest transformed AUC:  0.948372615039\n"
     ]
    }
   ],
   "source": [
    "# the AUC did not change\n",
    "print \"Original AUC: \",metrics.roc_auc_score(y_test, y_pred_prob1)\n",
    "print \"Square root probs AUC: \",metrics.roc_auc_score(y_test, y_pred_prob2)\n",
    "print \"Newest transformed AUC: \",metrics.roc_auc_score(y_test, y_pred_prob3)"
   ]
  },
  {
   "cell_type": "code",
   "execution_count": 34,
   "metadata": {},
   "outputs": [
    {
     "data": {
      "text/plain": [
       "[<matplotlib.lines.Line2D at 0x110665f10>]"
      ]
     },
     "execution_count": 34,
     "metadata": {},
     "output_type": "execute_result"
    },
    {
     "data": {
      "image/png": "[encoded data removed]",
      "text/plain": [
       "<matplotlib.figure.Figure at 0x11038a390>"
      ]
     },
     "metadata": {},
     "output_type": "display_data"
    }
   ],
   "source": [
    "fpr3, tpr3, thresholds2 = metrics.roc_curve(y_test, y_pred_prob3)\n",
    "# the ROC curve did not change\n",
    "figure = sns.plt.figure(figsize=(12,8))\n",
    "figure.add_subplot(131)\n",
    "sns.plt.plot(fpr, tpr)\n",
    "sns.plt.title(\"Original ROC Curve\")\n",
    "figure.add_subplot(132)\n",
    "sns.plt.title(\"ROC Curve of sqrt probs\")\n",
    "sns.plt.plot(fpr2, tpr2)\n",
    "figure.add_subplot(133)\n",
    "sns.plt.title(\"ROC Curve of newest transformed probs\")\n",
    "sns.plt.plot(fpr3, tpr3)"
   ]
  },
  {
   "cell_type": "markdown",
   "metadata": {},
   "source": [
    "The point of all of this is, as long as the ordering of probabilities for all of your samples is maintained, the ROC will remain identical.\n",
    "\n",
    "All that matters is the order of the predicted probabilities in predicted data, not the actual values!\n",
    "\n",
    "### ROC/Confusion Matrix/Metric Takeaways\n",
    "\n",
    "* For binary classifiers, you want to have the highest AUC possible. To decide between two classifiers, maximize the one that has the higher AUC.\n",
    "* Once you've maximized your AUC, you set about choosing your classifier threshold based on the specifics of your problem. If you need to minimize false alarms (so maximize precision) while keeping your recall some acceptable level, then you do one thing. If you need to maximize accuracy, you do something else.\n",
    "* In every case, what you're doing is generating a threshold from a specific point on the ROC curve."
   ]
  },
  {
   "cell_type": "markdown",
   "metadata": {},
   "source": [
    "### Pipelines: Putting An Entire Model Together End to End\n",
    "\n",
    "Ok, the last thing we are going to learn how to do, is how to combine every aspect creating and using a supervised machine learning model:\n",
    "\n",
    "1. Transforming your original data (removing skew, standard scaling, encoding categorical variables as numbers)\n",
    "2. Training and validating a model on that data\n",
    "3. Picking parameters for a given model to optimize accuracy/precision/recall/f1 score, etc.\n",
    "\n",
    "Let's try to see how we would do this without a pipeline. Let's get some data:"
   ]
  },
  {
   "cell_type": "code",
   "execution_count": 35,
   "metadata": {},
   "outputs": [
    {
     "data": {
      "text/html": [
       "<div>\n",
       "<style>\n",
       "    .dataframe thead tr:only-child th {\n",
       "        text-align: right;\n",
       "    }\n",
       "\n",
       "    .dataframe thead th {\n",
       "        text-align: left;\n",
       "    }\n",
       "\n",
       "    .dataframe tbody tr th {\n",
       "        vertical-align: top;\n",
       "    }\n",
       "</style>\n",
       "<table border=\"1\" class=\"dataframe\">\n",
       "  <thead>\n",
       "    <tr style=\"text-align: right;\">\n",
       "      <th></th>\n",
       "      <th>sex</th>\n",
       "      <th>length</th>\n",
       "      <th>diam</th>\n",
       "      <th>height</th>\n",
       "      <th>whole</th>\n",
       "      <th>shucked</th>\n",
       "      <th>viscera</th>\n",
       "      <th>shell</th>\n",
       "      <th>age</th>\n",
       "    </tr>\n",
       "  </thead>\n",
       "  <tbody>\n",
       "    <tr>\n",
       "      <th>0</th>\n",
       "      <td>M</td>\n",
       "      <td>0.455</td>\n",
       "      <td>0.365</td>\n",
       "      <td>0.095</td>\n",
       "      <td>0.5140</td>\n",
       "      <td>0.2245</td>\n",
       "      <td>0.1010</td>\n",
       "      <td>0.150</td>\n",
       "      <td>15</td>\n",
       "    </tr>\n",
       "    <tr>\n",
       "      <th>1</th>\n",
       "      <td>M</td>\n",
       "      <td>0.350</td>\n",
       "      <td>0.265</td>\n",
       "      <td>0.090</td>\n",
       "      <td>0.2255</td>\n",
       "      <td>0.0995</td>\n",
       "      <td>0.0485</td>\n",
       "      <td>0.070</td>\n",
       "      <td>7</td>\n",
       "    </tr>\n",
       "    <tr>\n",
       "      <th>2</th>\n",
       "      <td>F</td>\n",
       "      <td>0.530</td>\n",
       "      <td>0.420</td>\n",
       "      <td>0.135</td>\n",
       "      <td>0.6770</td>\n",
       "      <td>0.2565</td>\n",
       "      <td>0.1415</td>\n",
       "      <td>0.210</td>\n",
       "      <td>9</td>\n",
       "    </tr>\n",
       "    <tr>\n",
       "      <th>3</th>\n",
       "      <td>M</td>\n",
       "      <td>0.440</td>\n",
       "      <td>0.365</td>\n",
       "      <td>0.125</td>\n",
       "      <td>0.5160</td>\n",
       "      <td>0.2155</td>\n",
       "      <td>0.1140</td>\n",
       "      <td>0.155</td>\n",
       "      <td>10</td>\n",
       "    </tr>\n",
       "    <tr>\n",
       "      <th>4</th>\n",
       "      <td>I</td>\n",
       "      <td>0.330</td>\n",
       "      <td>0.255</td>\n",
       "      <td>0.080</td>\n",
       "      <td>0.2050</td>\n",
       "      <td>0.0895</td>\n",
       "      <td>0.0395</td>\n",
       "      <td>0.055</td>\n",
       "      <td>7</td>\n",
       "    </tr>\n",
       "  </tbody>\n",
       "</table>\n",
       "</div>"
      ],
      "text/plain": [
       "  sex  length   diam  height   whole  shucked  viscera  shell  age\n",
       "0   M   0.455  0.365   0.095  0.5140   0.2245   0.1010  0.150   15\n",
       "1   M   0.350  0.265   0.090  0.2255   0.0995   0.0485  0.070    7\n",
       "2   F   0.530  0.420   0.135  0.6770   0.2565   0.1415  0.210    9\n",
       "3   M   0.440  0.365   0.125  0.5160   0.2155   0.1140  0.155   10\n",
       "4   I   0.330  0.255   0.080  0.2050   0.0895   0.0395  0.055    7"
      ]
     },
     "execution_count": 35,
     "metadata": {},
     "output_type": "execute_result"
    }
   ],
   "source": [
    "columns = [\"sex\",\"length\",\"diam\",\"height\",\"whole\",\"shucked\",\"viscera\",\"shell\",\"age\"]\n",
    "numeric_columns = columns[1:-1]\n",
    "categorical_columns = columns[0]\n",
    "target = columns[-1]\n",
    "\n",
    "abalone_data = pd.read_csv(\"http://archive.ics.uci.edu/ml/machine-learning-databases/abalone/abalone.data\",names=columns)\n",
    "abalone_data.head()"
   ]
  },
  {
   "cell_type": "markdown",
   "metadata": {},
   "source": [
    "Now let's preprocess it in the standard way I've shown you:\n",
    "\n",
    "1. Let's convert the categorical column using one-hot encoding\n",
    "2. Standard scale (Z-score) the numeric columns"
   ]
  },
  {
   "cell_type": "code",
   "execution_count": 37,
   "metadata": {},
   "outputs": [
    {
     "name": "stderr",
     "output_type": "stream",
     "text": [
      "/usr/local/lib/python2.7/site-packages/ipykernel_launcher.py:7: SettingWithCopyWarning: \n",
      "A value is trying to be set on a copy of a slice from a DataFrame.\n",
      "Try using .loc[row_indexer,col_indexer] = value instead\n",
      "\n",
      "See the caveats in the documentation: http://pandas.pydata.org/pandas-docs/stable/indexing.html#indexing-view-versus-copy\n",
      "  import sys\n"
     ]
    }
   ],
   "source": [
    "#get categorical features\n",
    "#drop off last column because its unnecessary\n",
    "X_categorical = pd.get_dummies(abalone_data[categorical_columns]).astype(int).iloc[:,:-1]\n",
    "\n",
    "#get and transform numeric features\n",
    "X_numeric = abalone_data[numeric_columns]\n",
    "X_numeric[numeric_columns] = StandardScaler().fit_transform(X_numeric)\n",
    "\n",
    "#get outcome variable\n",
    "y = abalone_data[target]\n",
    "\n",
    "#combine transformed categorical and numeric features\n",
    "X_final = pd.concat((X_numeric,X_categorical),axis=1)"
   ]
  },
  {
   "cell_type": "markdown",
   "metadata": {},
   "source": [
    "And now, let's do our standard 10-fold cross-validation scoring:"
   ]
  },
  {
   "cell_type": "code",
   "execution_count": 39,
   "metadata": {},
   "outputs": [
    {
     "name": "stdout",
     "output_type": "stream",
     "text": [
      "Mean 10-fold rmse:  2.22570139345\n",
      "Std 10-fold rmse:  0.611615926867\n"
     ]
    }
   ],
   "source": [
    "#create rf regressor and check 10-fold RMSE\n",
    "rf = RandomForestRegressor()\n",
    "cross_val_scores = np.abs(cross_val_score(rf,X_final,y,scoring = \"neg_mean_squared_error\", cv=10))\n",
    "rmse_cross_val_scores = map(np.sqrt, cross_val_scores)\n",
    "print \"Mean 10-fold rmse: \", np.mean(rmse_cross_val_scores)\n",
    "print \"Std 10-fold rmse: \", np.std(rmse_cross_val_scores)"
   ]
  },
  {
   "cell_type": "markdown",
   "metadata": {},
   "source": [
    "Now, we are going to do the same thing using Scikit-learn's pipeline feature. First, we are going to have a class that allows us to subselect columns that we want to work with. [See this example in the scikit-learn documentation as well](http://scikit-learn.org/stable/auto_examples/hetero_feature_union.html):"
   ]
  },
  {
   "cell_type": "code",
   "execution_count": 41,
   "metadata": {},
   "outputs": [],
   "source": [
    "from sklearn.base import BaseEstimator, TransformerMixin\n",
    "\n",
    "class ItemSelector(BaseEstimator, TransformerMixin):\n",
    "    \"\"\"For data grouped by feature, select subset of data at a provided key.\n",
    "\n",
    "    The data is expected to be stored in a 2D data structure, where the first\n",
    "    index is over features and the second is over samples.  i.e.\n",
    "\n",
    "    >> len(data[key]) == n_samples\n",
    "\n",
    "    Please note that this is the opposite convention to sklearn feature\n",
    "    matrixes (where the first index corresponds to sample).\n",
    "\n",
    "    ItemSelector only requires that the collection implement getitem\n",
    "    (data[key]).  Examples include: a dict of lists, 2D numpy array, Pandas\n",
    "    DataFrame, numpy record array, etc.\n",
    "\n",
    "    >> data = {'a': [1, 5, 2, 5, 2, 8],\n",
    "               'b': [9, 4, 1, 4, 1, 3]}\n",
    "    >> ds = ItemSelector(key='a')\n",
    "    >> data['a'] == ds.transform(data)\n",
    "\n",
    "    ItemSelector is not designed to handle data grouped by sample.  (e.g. a\n",
    "    list of dicts).  If your data is structured this way, consider a\n",
    "    transformer along the lines of `sklearn.feature_extraction.DictVectorizer`.\n",
    "\n",
    "    Parameters\n",
    "    ----------\n",
    "    key : hashable, required\n",
    "        The key corresponding to the desired value in a mappable.\n",
    "    \"\"\"\n",
    "    def __init__(self, key):\n",
    "        self.key = key\n",
    "\n",
    "    def fit(self, x, y=None):\n",
    "        return self\n",
    "\n",
    "    def transform(self, data_dict):\n",
    "        return data_dict[self.key]"
   ]
  },
  {
   "cell_type": "markdown",
   "metadata": {},
   "source": [
    "Now, we are going to make the full pipeline, from start to finish, for the entire dataset:"
   ]
  },
  {
   "cell_type": "code",
   "execution_count": 42,
   "metadata": {},
   "outputs": [],
   "source": [
    "from sklearn.pipeline import FeatureUnion, Pipeline\n",
    "from sklearn.preprocessing import OneHotEncoder\n",
    "\n",
    "#encode the categorical column from strings to ints\n",
    "le = LabelEncoder()\n",
    "abalone_data[\"sex_encoded\"] = abalone_data[[categorical_columns]].apply(le.fit_transform)\n",
    "\n",
    "#extract the y\n",
    "y = abalone_data.age\n",
    "\n",
    "#create the feature union for the features\n",
    "X_transformed_pipe = FeatureUnion(\n",
    "        transformer_list=[\n",
    "            # Pipeline for one hot encoding categorical column\n",
    "            ('sexes', Pipeline([\n",
    "                ('selector', ItemSelector(key=[\"sex_encoded\"])),\n",
    "                ('encoder', OneHotEncoder())                    \n",
    "            ])),\n",
    "            # Pipeline for pulling out numeric features and scaling them\n",
    "            ('numeric', Pipeline([\n",
    "                ('selector', ItemSelector(key=numeric_columns)),\n",
    "                #('polyfeatures', PolynomialFeatures(degree=2,interaction_only=True)),\n",
    "                ('scaler', StandardScaler()),\n",
    "            ]))])\n",
    "#create the full final pipeline\n",
    "full_pipeline = Pipeline([(\"all_features\",X_transformed_pipe),(\"rf_regressor\",RandomForestRegressor(n_estimators=100))])"
   ]
  },
  {
   "cell_type": "markdown",
   "metadata": {},
   "source": [
    "And now let's run the whole pipe through the `cross_val_score` object:"
   ]
  },
  {
   "cell_type": "code",
   "execution_count": 43,
   "metadata": {},
   "outputs": [
    {
     "name": "stderr",
     "output_type": "stream",
     "text": [
      "/usr/local/lib/python2.7/site-packages/sklearn/metrics/scorer.py:90: DeprecationWarning: Scoring method mean_squared_error was renamed to neg_mean_squared_error in version 0.18 and will be removed in 0.20.\n",
      "  sample_weight=sample_weight)\n",
      "/usr/local/lib/python2.7/site-packages/sklearn/metrics/scorer.py:90: DeprecationWarning: Scoring method mean_squared_error was renamed to neg_mean_squared_error in version 0.18 and will be removed in 0.20.\n",
      "  sample_weight=sample_weight)\n",
      "/usr/local/lib/python2.7/site-packages/sklearn/metrics/scorer.py:90: DeprecationWarning: Scoring method mean_squared_error was renamed to neg_mean_squared_error in version 0.18 and will be removed in 0.20.\n",
      "  sample_weight=sample_weight)\n",
      "/usr/local/lib/python2.7/site-packages/sklearn/metrics/scorer.py:90: DeprecationWarning: Scoring method mean_squared_error was renamed to neg_mean_squared_error in version 0.18 and will be removed in 0.20.\n",
      "  sample_weight=sample_weight)\n",
      "/usr/local/lib/python2.7/site-packages/sklearn/metrics/scorer.py:90: DeprecationWarning: Scoring method mean_squared_error was renamed to neg_mean_squared_error in version 0.18 and will be removed in 0.20.\n",
      "  sample_weight=sample_weight)\n",
      "/usr/local/lib/python2.7/site-packages/sklearn/metrics/scorer.py:90: DeprecationWarning: Scoring method mean_squared_error was renamed to neg_mean_squared_error in version 0.18 and will be removed in 0.20.\n",
      "  sample_weight=sample_weight)\n",
      "/usr/local/lib/python2.7/site-packages/sklearn/metrics/scorer.py:90: DeprecationWarning: Scoring method mean_squared_error was renamed to neg_mean_squared_error in version 0.18 and will be removed in 0.20.\n",
      "  sample_weight=sample_weight)\n",
      "/usr/local/lib/python2.7/site-packages/sklearn/metrics/scorer.py:90: DeprecationWarning: Scoring method mean_squared_error was renamed to neg_mean_squared_error in version 0.18 and will be removed in 0.20.\n",
      "  sample_weight=sample_weight)\n",
      "/usr/local/lib/python2.7/site-packages/sklearn/metrics/scorer.py:90: DeprecationWarning: Scoring method mean_squared_error was renamed to neg_mean_squared_error in version 0.18 and will be removed in 0.20.\n",
      "  sample_weight=sample_weight)\n"
     ]
    },
    {
     "name": "stdout",
     "output_type": "stream",
     "text": [
      "Mean 10-fold rmse:  2.14998472835\n",
      "Std 10-fold rmse:  0.637656615185\n"
     ]
    },
    {
     "name": "stderr",
     "output_type": "stream",
     "text": [
      "/usr/local/lib/python2.7/site-packages/sklearn/metrics/scorer.py:90: DeprecationWarning: Scoring method mean_squared_error was renamed to neg_mean_squared_error in version 0.18 and will be removed in 0.20.\n",
      "  sample_weight=sample_weight)\n"
     ]
    }
   ],
   "source": [
    "#pass the pipeline directly into cross_val_score\n",
    "cross_val_scores = np.abs(cross_val_score(full_pipeline,abalone_data,y,cv=10,scoring=\"neg_mean_squared_error\"))\n",
    "rmse_cross_val_scores = map(np.sqrt, cross_val_scores)\n",
    "print \"Mean 10-fold rmse: \", np.mean(rmse_cross_val_scores)\n",
    "print \"Std 10-fold rmse: \", np.std(rmse_cross_val_scores)"
   ]
  },
  {
   "cell_type": "markdown",
   "metadata": {},
   "source": [
    "#### Exercise Time!\n",
    "\n",
    "* Change the pipeline to perform PCA and keep only the first 6 components on the complete feature pipe (after standard scaling numeric features and encoding the categorical feature)"
   ]
  },
  {
   "cell_type": "code",
   "execution_count": 44,
   "metadata": {
    "collapsed": true
   },
   "outputs": [],
   "source": [
    "pass"
   ]
  },
  {
   "cell_type": "markdown",
   "metadata": {},
   "source": [
    "Now let's do this on a slightly more involved example, where we will have to do some imputation (filling in of missing values).\n",
    "\n",
    "Here the process will be as follows:\n",
    "\n",
    "1. Encode categorical string columns as numbers using `LabelEncoder`\n",
    "2. Impute missing categorical values (marked with 0 after encoding) with most frequent category using `Imputer`\n",
    "3. One-hot encode the categorical columns using `OneHotEncoder`\n",
    "4. Impute missing numerical values using the median value of each column using `Imputer`\n",
    "5. Z-score/standardize each numerica column using `StandardScaler`\n",
    "6. Combine both collections of columns (one-hot encoded categorical columns and standardized numeric columns) using `FeatureUnion`\n",
    "7. Pass the whole collection to a `RandomForestClassifier` to build a Random Forest classification model.\n",
    "8. Use `cross_val_score` with 10-fold cross-validation on the entire pipeline.\n",
    "\n",
    "Ready? Let's start by loading in the data:"
   ]
  },
  {
   "cell_type": "code",
   "execution_count": 45,
   "metadata": {},
   "outputs": [
    {
     "data": {
      "text/html": [
       "<div>\n",
       "<style>\n",
       "    .dataframe thead tr:only-child th {\n",
       "        text-align: right;\n",
       "    }\n",
       "\n",
       "    .dataframe thead th {\n",
       "        text-align: left;\n",
       "    }\n",
       "\n",
       "    .dataframe tbody tr th {\n",
       "        vertical-align: top;\n",
       "    }\n",
       "</style>\n",
       "<table border=\"1\" class=\"dataframe\">\n",
       "  <thead>\n",
       "    <tr style=\"text-align: right;\">\n",
       "      <th></th>\n",
       "      <th>age</th>\n",
       "      <th>bp</th>\n",
       "      <th>sg</th>\n",
       "      <th>al</th>\n",
       "      <th>su</th>\n",
       "      <th>rbc</th>\n",
       "      <th>pc</th>\n",
       "      <th>pcc</th>\n",
       "      <th>ba</th>\n",
       "      <th>bgr</th>\n",
       "      <th>...</th>\n",
       "      <th>pcv</th>\n",
       "      <th>wc</th>\n",
       "      <th>rc</th>\n",
       "      <th>htn</th>\n",
       "      <th>dm</th>\n",
       "      <th>cad</th>\n",
       "      <th>appet</th>\n",
       "      <th>pe</th>\n",
       "      <th>ane</th>\n",
       "      <th>class</th>\n",
       "    </tr>\n",
       "  </thead>\n",
       "  <tbody>\n",
       "    <tr>\n",
       "      <th>0</th>\n",
       "      <td>48.0</td>\n",
       "      <td>80.0</td>\n",
       "      <td>1.020</td>\n",
       "      <td>1.0</td>\n",
       "      <td>0.0</td>\n",
       "      <td>NaN</td>\n",
       "      <td>normal</td>\n",
       "      <td>notpresent</td>\n",
       "      <td>notpresent</td>\n",
       "      <td>121.0</td>\n",
       "      <td>...</td>\n",
       "      <td>44.0</td>\n",
       "      <td>7800.0</td>\n",
       "      <td>5.2</td>\n",
       "      <td>yes</td>\n",
       "      <td>yes</td>\n",
       "      <td>no</td>\n",
       "      <td>good</td>\n",
       "      <td>no</td>\n",
       "      <td>no</td>\n",
       "      <td>ckd</td>\n",
       "    </tr>\n",
       "    <tr>\n",
       "      <th>1</th>\n",
       "      <td>7.0</td>\n",
       "      <td>50.0</td>\n",
       "      <td>1.020</td>\n",
       "      <td>4.0</td>\n",
       "      <td>0.0</td>\n",
       "      <td>NaN</td>\n",
       "      <td>normal</td>\n",
       "      <td>notpresent</td>\n",
       "      <td>notpresent</td>\n",
       "      <td>NaN</td>\n",
       "      <td>...</td>\n",
       "      <td>38.0</td>\n",
       "      <td>6000.0</td>\n",
       "      <td>NaN</td>\n",
       "      <td>no</td>\n",
       "      <td>no</td>\n",
       "      <td>no</td>\n",
       "      <td>good</td>\n",
       "      <td>no</td>\n",
       "      <td>no</td>\n",
       "      <td>ckd</td>\n",
       "    </tr>\n",
       "    <tr>\n",
       "      <th>2</th>\n",
       "      <td>62.0</td>\n",
       "      <td>80.0</td>\n",
       "      <td>1.010</td>\n",
       "      <td>2.0</td>\n",
       "      <td>3.0</td>\n",
       "      <td>normal</td>\n",
       "      <td>normal</td>\n",
       "      <td>notpresent</td>\n",
       "      <td>notpresent</td>\n",
       "      <td>423.0</td>\n",
       "      <td>...</td>\n",
       "      <td>31.0</td>\n",
       "      <td>7500.0</td>\n",
       "      <td>NaN</td>\n",
       "      <td>no</td>\n",
       "      <td>yes</td>\n",
       "      <td>no</td>\n",
       "      <td>poor</td>\n",
       "      <td>no</td>\n",
       "      <td>yes</td>\n",
       "      <td>ckd</td>\n",
       "    </tr>\n",
       "    <tr>\n",
       "      <th>3</th>\n",
       "      <td>48.0</td>\n",
       "      <td>70.0</td>\n",
       "      <td>1.005</td>\n",
       "      <td>4.0</td>\n",
       "      <td>0.0</td>\n",
       "      <td>normal</td>\n",
       "      <td>abnormal</td>\n",
       "      <td>present</td>\n",
       "      <td>notpresent</td>\n",
       "      <td>117.0</td>\n",
       "      <td>...</td>\n",
       "      <td>32.0</td>\n",
       "      <td>6700.0</td>\n",
       "      <td>3.9</td>\n",
       "      <td>yes</td>\n",
       "      <td>no</td>\n",
       "      <td>no</td>\n",
       "      <td>poor</td>\n",
       "      <td>yes</td>\n",
       "      <td>yes</td>\n",
       "      <td>ckd</td>\n",
       "    </tr>\n",
       "    <tr>\n",
       "      <th>4</th>\n",
       "      <td>51.0</td>\n",
       "      <td>80.0</td>\n",
       "      <td>1.010</td>\n",
       "      <td>2.0</td>\n",
       "      <td>0.0</td>\n",
       "      <td>normal</td>\n",
       "      <td>normal</td>\n",
       "      <td>notpresent</td>\n",
       "      <td>notpresent</td>\n",
       "      <td>106.0</td>\n",
       "      <td>...</td>\n",
       "      <td>35.0</td>\n",
       "      <td>7300.0</td>\n",
       "      <td>4.6</td>\n",
       "      <td>no</td>\n",
       "      <td>no</td>\n",
       "      <td>no</td>\n",
       "      <td>good</td>\n",
       "      <td>no</td>\n",
       "      <td>no</td>\n",
       "      <td>ckd</td>\n",
       "    </tr>\n",
       "  </tbody>\n",
       "</table>\n",
       "<p>5 rows × 25 columns</p>\n",
       "</div>"
      ],
      "text/plain": [
       "    age    bp     sg   al   su     rbc        pc         pcc          ba  \\\n",
       "0  48.0  80.0  1.020  1.0  0.0     NaN    normal  notpresent  notpresent   \n",
       "1   7.0  50.0  1.020  4.0  0.0     NaN    normal  notpresent  notpresent   \n",
       "2  62.0  80.0  1.010  2.0  3.0  normal    normal  notpresent  notpresent   \n",
       "3  48.0  70.0  1.005  4.0  0.0  normal  abnormal     present  notpresent   \n",
       "4  51.0  80.0  1.010  2.0  0.0  normal    normal  notpresent  notpresent   \n",
       "\n",
       "     bgr  ...    pcv      wc   rc  htn   dm  cad  appet   pe  ane class  \n",
       "0  121.0  ...   44.0  7800.0  5.2  yes  yes   no   good   no   no   ckd  \n",
       "1    NaN  ...   38.0  6000.0  NaN   no   no   no   good   no   no   ckd  \n",
       "2  423.0  ...   31.0  7500.0  NaN   no  yes   no   poor   no  yes   ckd  \n",
       "3  117.0  ...   32.0  6700.0  3.9  yes   no   no   poor  yes  yes   ckd  \n",
       "4  106.0  ...   35.0  7300.0  4.6   no   no   no   good   no   no   ckd  \n",
       "\n",
       "[5 rows x 25 columns]"
      ]
     },
     "execution_count": 45,
     "metadata": {},
     "output_type": "execute_result"
    }
   ],
   "source": [
    "kidney_columns = [\"age\",\"bp\",\"sg\",\"al\",\"su\",\"rbc\",\"pc\",\"pcc\",\"ba\",\"bgr\",\"bu\",\"sc\",\"sod\",\"pot\",\"hemo\",\"pcv\",\"wc\",\"rc\",\"htn\",\"dm\",\"cad\",\"appet\",\"pe\",\"ane\",\"class\"]\n",
    "kidney_data = pd.read_csv(\"../data/chronic_kidney_disease.csv\",\n",
    "                          header=None,\n",
    "                          na_values=\"?\",\n",
    "                          names=kidney_columns)\n",
    "kidney_data.head()"
   ]
  },
  {
   "cell_type": "markdown",
   "metadata": {},
   "source": [
    "Let's rearrange the columns so that the numeric columns are together, followed by all of the categorical columns:"
   ]
  },
  {
   "cell_type": "code",
   "execution_count": 46,
   "metadata": {},
   "outputs": [
    {
     "data": {
      "text/html": [
       "<div>\n",
       "<style>\n",
       "    .dataframe thead tr:only-child th {\n",
       "        text-align: right;\n",
       "    }\n",
       "\n",
       "    .dataframe thead th {\n",
       "        text-align: left;\n",
       "    }\n",
       "\n",
       "    .dataframe tbody tr th {\n",
       "        vertical-align: top;\n",
       "    }\n",
       "</style>\n",
       "<table border=\"1\" class=\"dataframe\">\n",
       "  <thead>\n",
       "    <tr style=\"text-align: right;\">\n",
       "      <th></th>\n",
       "      <th>age</th>\n",
       "      <th>bp</th>\n",
       "      <th>sg</th>\n",
       "      <th>al</th>\n",
       "      <th>su</th>\n",
       "      <th>bgr</th>\n",
       "      <th>bu</th>\n",
       "      <th>sc</th>\n",
       "      <th>sod</th>\n",
       "      <th>pot</th>\n",
       "      <th>...</th>\n",
       "      <th>pc</th>\n",
       "      <th>pcc</th>\n",
       "      <th>ba</th>\n",
       "      <th>htn</th>\n",
       "      <th>dm</th>\n",
       "      <th>cad</th>\n",
       "      <th>appet</th>\n",
       "      <th>pe</th>\n",
       "      <th>ane</th>\n",
       "      <th>class</th>\n",
       "    </tr>\n",
       "  </thead>\n",
       "  <tbody>\n",
       "    <tr>\n",
       "      <th>0</th>\n",
       "      <td>48.0</td>\n",
       "      <td>80.0</td>\n",
       "      <td>1.020</td>\n",
       "      <td>1.0</td>\n",
       "      <td>0.0</td>\n",
       "      <td>121.0</td>\n",
       "      <td>36.0</td>\n",
       "      <td>1.2</td>\n",
       "      <td>NaN</td>\n",
       "      <td>NaN</td>\n",
       "      <td>...</td>\n",
       "      <td>normal</td>\n",
       "      <td>notpresent</td>\n",
       "      <td>notpresent</td>\n",
       "      <td>yes</td>\n",
       "      <td>yes</td>\n",
       "      <td>no</td>\n",
       "      <td>good</td>\n",
       "      <td>no</td>\n",
       "      <td>no</td>\n",
       "      <td>ckd</td>\n",
       "    </tr>\n",
       "    <tr>\n",
       "      <th>1</th>\n",
       "      <td>7.0</td>\n",
       "      <td>50.0</td>\n",
       "      <td>1.020</td>\n",
       "      <td>4.0</td>\n",
       "      <td>0.0</td>\n",
       "      <td>NaN</td>\n",
       "      <td>18.0</td>\n",
       "      <td>0.8</td>\n",
       "      <td>NaN</td>\n",
       "      <td>NaN</td>\n",
       "      <td>...</td>\n",
       "      <td>normal</td>\n",
       "      <td>notpresent</td>\n",
       "      <td>notpresent</td>\n",
       "      <td>no</td>\n",
       "      <td>no</td>\n",
       "      <td>no</td>\n",
       "      <td>good</td>\n",
       "      <td>no</td>\n",
       "      <td>no</td>\n",
       "      <td>ckd</td>\n",
       "    </tr>\n",
       "    <tr>\n",
       "      <th>2</th>\n",
       "      <td>62.0</td>\n",
       "      <td>80.0</td>\n",
       "      <td>1.010</td>\n",
       "      <td>2.0</td>\n",
       "      <td>3.0</td>\n",
       "      <td>423.0</td>\n",
       "      <td>53.0</td>\n",
       "      <td>1.8</td>\n",
       "      <td>NaN</td>\n",
       "      <td>NaN</td>\n",
       "      <td>...</td>\n",
       "      <td>normal</td>\n",
       "      <td>notpresent</td>\n",
       "      <td>notpresent</td>\n",
       "      <td>no</td>\n",
       "      <td>yes</td>\n",
       "      <td>no</td>\n",
       "      <td>poor</td>\n",
       "      <td>no</td>\n",
       "      <td>yes</td>\n",
       "      <td>ckd</td>\n",
       "    </tr>\n",
       "    <tr>\n",
       "      <th>3</th>\n",
       "      <td>48.0</td>\n",
       "      <td>70.0</td>\n",
       "      <td>1.005</td>\n",
       "      <td>4.0</td>\n",
       "      <td>0.0</td>\n",
       "      <td>117.0</td>\n",
       "      <td>56.0</td>\n",
       "      <td>3.8</td>\n",
       "      <td>111.0</td>\n",
       "      <td>2.5</td>\n",
       "      <td>...</td>\n",
       "      <td>abnormal</td>\n",
       "      <td>present</td>\n",
       "      <td>notpresent</td>\n",
       "      <td>yes</td>\n",
       "      <td>no</td>\n",
       "      <td>no</td>\n",
       "      <td>poor</td>\n",
       "      <td>yes</td>\n",
       "      <td>yes</td>\n",
       "      <td>ckd</td>\n",
       "    </tr>\n",
       "    <tr>\n",
       "      <th>4</th>\n",
       "      <td>51.0</td>\n",
       "      <td>80.0</td>\n",
       "      <td>1.010</td>\n",
       "      <td>2.0</td>\n",
       "      <td>0.0</td>\n",
       "      <td>106.0</td>\n",
       "      <td>26.0</td>\n",
       "      <td>1.4</td>\n",
       "      <td>NaN</td>\n",
       "      <td>NaN</td>\n",
       "      <td>...</td>\n",
       "      <td>normal</td>\n",
       "      <td>notpresent</td>\n",
       "      <td>notpresent</td>\n",
       "      <td>no</td>\n",
       "      <td>no</td>\n",
       "      <td>no</td>\n",
       "      <td>good</td>\n",
       "      <td>no</td>\n",
       "      <td>no</td>\n",
       "      <td>ckd</td>\n",
       "    </tr>\n",
       "  </tbody>\n",
       "</table>\n",
       "<p>5 rows × 25 columns</p>\n",
       "</div>"
      ],
      "text/plain": [
       "    age    bp     sg   al   su    bgr    bu   sc    sod  pot  ...         pc  \\\n",
       "0  48.0  80.0  1.020  1.0  0.0  121.0  36.0  1.2    NaN  NaN  ...     normal   \n",
       "1   7.0  50.0  1.020  4.0  0.0    NaN  18.0  0.8    NaN  NaN  ...     normal   \n",
       "2  62.0  80.0  1.010  2.0  3.0  423.0  53.0  1.8    NaN  NaN  ...     normal   \n",
       "3  48.0  70.0  1.005  4.0  0.0  117.0  56.0  3.8  111.0  2.5  ...   abnormal   \n",
       "4  51.0  80.0  1.010  2.0  0.0  106.0  26.0  1.4    NaN  NaN  ...     normal   \n",
       "\n",
       "          pcc          ba  htn   dm cad appet   pe  ane class  \n",
       "0  notpresent  notpresent  yes  yes  no  good   no   no   ckd  \n",
       "1  notpresent  notpresent   no   no  no  good   no   no   ckd  \n",
       "2  notpresent  notpresent   no  yes  no  poor   no  yes   ckd  \n",
       "3     present  notpresent  yes   no  no  poor  yes  yes   ckd  \n",
       "4  notpresent  notpresent   no   no  no  good   no   no   ckd  \n",
       "\n",
       "[5 rows x 25 columns]"
      ]
     },
     "execution_count": 46,
     "metadata": {},
     "output_type": "execute_result"
    }
   ],
   "source": [
    "#rearrange kidney columns as before\n",
    "kidney_columns = kidney_columns[:5]+kidney_columns[9:18]+kidney_columns[5:9]+kidney_columns[18:]\n",
    "kidney_data = kidney_data[kidney_columns]\n",
    "kidney_data.head()"
   ]
  },
  {
   "cell_type": "markdown",
   "metadata": {},
   "source": [
    "Let's encode the strings as numbers:"
   ]
  },
  {
   "cell_type": "code",
   "execution_count": 47,
   "metadata": {},
   "outputs": [
    {
     "name": "stderr",
     "output_type": "stream",
     "text": [
      "/usr/local/lib/python2.7/site-packages/numpy/lib/arraysetops.py:216: FutureWarning: numpy not_equal will not check object identity in the future. The comparison did not return the same result as suggested by the identity (`is`)) and will change.\n",
      "  flag = np.concatenate(([True], aux[1:] != aux[:-1]))\n"
     ]
    },
    {
     "data": {
      "text/html": [
       "<div>\n",
       "<style>\n",
       "    .dataframe thead tr:only-child th {\n",
       "        text-align: right;\n",
       "    }\n",
       "\n",
       "    .dataframe thead th {\n",
       "        text-align: left;\n",
       "    }\n",
       "\n",
       "    .dataframe tbody tr th {\n",
       "        vertical-align: top;\n",
       "    }\n",
       "</style>\n",
       "<table border=\"1\" class=\"dataframe\">\n",
       "  <thead>\n",
       "    <tr style=\"text-align: right;\">\n",
       "      <th></th>\n",
       "      <th>age</th>\n",
       "      <th>bp</th>\n",
       "      <th>sg</th>\n",
       "      <th>al</th>\n",
       "      <th>su</th>\n",
       "      <th>bgr</th>\n",
       "      <th>bu</th>\n",
       "      <th>sc</th>\n",
       "      <th>sod</th>\n",
       "      <th>pot</th>\n",
       "      <th>...</th>\n",
       "      <th>pc</th>\n",
       "      <th>pcc</th>\n",
       "      <th>ba</th>\n",
       "      <th>htn</th>\n",
       "      <th>dm</th>\n",
       "      <th>cad</th>\n",
       "      <th>appet</th>\n",
       "      <th>pe</th>\n",
       "      <th>ane</th>\n",
       "      <th>class</th>\n",
       "    </tr>\n",
       "  </thead>\n",
       "  <tbody>\n",
       "    <tr>\n",
       "      <th>0</th>\n",
       "      <td>48.0</td>\n",
       "      <td>80.0</td>\n",
       "      <td>1.020</td>\n",
       "      <td>1.0</td>\n",
       "      <td>0.0</td>\n",
       "      <td>121.0</td>\n",
       "      <td>36.0</td>\n",
       "      <td>1.2</td>\n",
       "      <td>NaN</td>\n",
       "      <td>NaN</td>\n",
       "      <td>...</td>\n",
       "      <td>2</td>\n",
       "      <td>1</td>\n",
       "      <td>1</td>\n",
       "      <td>2</td>\n",
       "      <td>3</td>\n",
       "      <td>1</td>\n",
       "      <td>1</td>\n",
       "      <td>1</td>\n",
       "      <td>1</td>\n",
       "      <td>0</td>\n",
       "    </tr>\n",
       "    <tr>\n",
       "      <th>1</th>\n",
       "      <td>7.0</td>\n",
       "      <td>50.0</td>\n",
       "      <td>1.020</td>\n",
       "      <td>4.0</td>\n",
       "      <td>0.0</td>\n",
       "      <td>NaN</td>\n",
       "      <td>18.0</td>\n",
       "      <td>0.8</td>\n",
       "      <td>NaN</td>\n",
       "      <td>NaN</td>\n",
       "      <td>...</td>\n",
       "      <td>2</td>\n",
       "      <td>1</td>\n",
       "      <td>1</td>\n",
       "      <td>1</td>\n",
       "      <td>2</td>\n",
       "      <td>1</td>\n",
       "      <td>1</td>\n",
       "      <td>1</td>\n",
       "      <td>1</td>\n",
       "      <td>0</td>\n",
       "    </tr>\n",
       "    <tr>\n",
       "      <th>2</th>\n",
       "      <td>62.0</td>\n",
       "      <td>80.0</td>\n",
       "      <td>1.010</td>\n",
       "      <td>2.0</td>\n",
       "      <td>3.0</td>\n",
       "      <td>423.0</td>\n",
       "      <td>53.0</td>\n",
       "      <td>1.8</td>\n",
       "      <td>NaN</td>\n",
       "      <td>NaN</td>\n",
       "      <td>...</td>\n",
       "      <td>2</td>\n",
       "      <td>1</td>\n",
       "      <td>1</td>\n",
       "      <td>1</td>\n",
       "      <td>3</td>\n",
       "      <td>1</td>\n",
       "      <td>2</td>\n",
       "      <td>1</td>\n",
       "      <td>2</td>\n",
       "      <td>0</td>\n",
       "    </tr>\n",
       "    <tr>\n",
       "      <th>3</th>\n",
       "      <td>48.0</td>\n",
       "      <td>70.0</td>\n",
       "      <td>1.005</td>\n",
       "      <td>4.0</td>\n",
       "      <td>0.0</td>\n",
       "      <td>117.0</td>\n",
       "      <td>56.0</td>\n",
       "      <td>3.8</td>\n",
       "      <td>111.0</td>\n",
       "      <td>2.5</td>\n",
       "      <td>...</td>\n",
       "      <td>1</td>\n",
       "      <td>2</td>\n",
       "      <td>1</td>\n",
       "      <td>2</td>\n",
       "      <td>2</td>\n",
       "      <td>1</td>\n",
       "      <td>2</td>\n",
       "      <td>2</td>\n",
       "      <td>2</td>\n",
       "      <td>0</td>\n",
       "    </tr>\n",
       "    <tr>\n",
       "      <th>4</th>\n",
       "      <td>51.0</td>\n",
       "      <td>80.0</td>\n",
       "      <td>1.010</td>\n",
       "      <td>2.0</td>\n",
       "      <td>0.0</td>\n",
       "      <td>106.0</td>\n",
       "      <td>26.0</td>\n",
       "      <td>1.4</td>\n",
       "      <td>NaN</td>\n",
       "      <td>NaN</td>\n",
       "      <td>...</td>\n",
       "      <td>2</td>\n",
       "      <td>1</td>\n",
       "      <td>1</td>\n",
       "      <td>1</td>\n",
       "      <td>2</td>\n",
       "      <td>1</td>\n",
       "      <td>1</td>\n",
       "      <td>1</td>\n",
       "      <td>1</td>\n",
       "      <td>0</td>\n",
       "    </tr>\n",
       "  </tbody>\n",
       "</table>\n",
       "<p>5 rows × 25 columns</p>\n",
       "</div>"
      ],
      "text/plain": [
       "    age    bp     sg   al   su    bgr    bu   sc    sod  pot  ...    pc  pcc  \\\n",
       "0  48.0  80.0  1.020  1.0  0.0  121.0  36.0  1.2    NaN  NaN  ...     2    1   \n",
       "1   7.0  50.0  1.020  4.0  0.0    NaN  18.0  0.8    NaN  NaN  ...     2    1   \n",
       "2  62.0  80.0  1.010  2.0  3.0  423.0  53.0  1.8    NaN  NaN  ...     2    1   \n",
       "3  48.0  70.0  1.005  4.0  0.0  117.0  56.0  3.8  111.0  2.5  ...     1    2   \n",
       "4  51.0  80.0  1.010  2.0  0.0  106.0  26.0  1.4    NaN  NaN  ...     2    1   \n",
       "\n",
       "   ba  htn  dm  cad  appet  pe  ane  class  \n",
       "0   1    2   3    1      1   1    1      0  \n",
       "1   1    1   2    1      1   1    1      0  \n",
       "2   1    1   3    1      2   1    2      0  \n",
       "3   1    2   2    1      2   2    2      0  \n",
       "4   1    1   2    1      1   1    1      0  \n",
       "\n",
       "[5 rows x 25 columns]"
      ]
     },
     "execution_count": 47,
     "metadata": {},
     "output_type": "execute_result"
    }
   ],
   "source": [
    "#convert strings to numbers\n",
    "le = LabelEncoder()\n",
    "kidney_data[kidney_columns[14:]] = kidney_data[kidney_columns[14:]].apply(le.fit_transform)\n",
    "#get the X and y\n",
    "X = kidney_data[kidney_columns[:-1]]\n",
    "y = kidney_data[\"class\"]\n",
    "kidney_data.head()"
   ]
  },
  {
   "cell_type": "markdown",
   "metadata": {},
   "source": [
    "And here is the code for the entire pipeline:"
   ]
  },
  {
   "cell_type": "code",
   "execution_count": 48,
   "metadata": {},
   "outputs": [],
   "source": [
    "from sklearn.preprocessing import Imputer\n",
    "\n",
    "X_transformed_pipe = FeatureUnion(\n",
    "        transformer_list=[\n",
    "            # Pipeline for filling in missing values, one hot encoding all categorical columns\n",
    "            ('categoricals', Pipeline([\n",
    "                ('selector', ItemSelector(key=kidney_columns[14:-1])),\n",
    "                ('imputer', Imputer(missing_values=0,strategy=\"most_frequent\",axis=0)),\n",
    "                ('encoder', OneHotEncoder())                    \n",
    "            ])),\n",
    "            # Pipeline for pulling out numeric features, filling in missing values, and scaling them\n",
    "            ('numeric', Pipeline([\n",
    "                ('selector', ItemSelector(key=kidney_columns[:14])),\n",
    "                ('imputer', Imputer(strategy=\"median\",axis=0)),\n",
    "                ('scaler', StandardScaler()),\n",
    "            ]))])\n",
    "\n",
    "full_pipeline = Pipeline([(\"all_features\",X_transformed_pipe),(\"rf_classifier\",RandomForestClassifier())])"
   ]
  },
  {
   "cell_type": "code",
   "execution_count": 49,
   "metadata": {},
   "outputs": [
    {
     "data": {
      "text/plain": [
       "array([ 1.   ,  0.975,  1.   ,  1.   ,  0.975,  0.975,  0.975,  1.   ,\n",
       "        1.   ,  1.   ])"
      ]
     },
     "execution_count": 49,
     "metadata": {},
     "output_type": "execute_result"
    }
   ],
   "source": [
    "cross_val_score(full_pipeline,X,y,cv=10)"
   ]
  },
  {
   "cell_type": "markdown",
   "metadata": {},
   "source": [
    "Each pipeline object contains a sequence of steps, which are stored in a list. Each step is a tuple, where the first element is the name you gave the given step, and the second element is the transformation or model you are applying at that step:"
   ]
  },
  {
   "cell_type": "code",
   "execution_count": 50,
   "metadata": {},
   "outputs": [
    {
     "data": {
      "text/plain": [
       "[('all_features', FeatureUnion(n_jobs=1,\n",
       "         transformer_list=[('categoricals', Pipeline(steps=[('selector', ItemSelector(key=['rbc', 'pc', 'pcc', 'ba', 'htn', 'dm', 'cad', 'appet', 'pe', 'ane'])), ('imputer', Imputer(axis=0, copy=True, missing_values=0, strategy='most_frequent',\n",
       "      verbose=0)), ('encoder', OneHotEncoder(categorical_features=...tegy='median', verbose=0)), ('scaler', StandardScaler(copy=True, with_mean=True, with_std=True))]))],\n",
       "         transformer_weights=None)),\n",
       " ('rf_classifier',\n",
       "  RandomForestClassifier(bootstrap=True, class_weight=None, criterion='gini',\n",
       "              max_depth=None, max_features='auto', max_leaf_nodes=None,\n",
       "              min_impurity_split=1e-07, min_samples_leaf=1,\n",
       "              min_samples_split=2, min_weight_fraction_leaf=0.0,\n",
       "              n_estimators=10, n_jobs=1, oob_score=False, random_state=None,\n",
       "              verbose=0, warm_start=False))]"
      ]
     },
     "execution_count": 50,
     "metadata": {},
     "output_type": "execute_result"
    }
   ],
   "source": [
    "full_pipeline.steps"
   ]
  },
  {
   "cell_type": "markdown",
   "metadata": {},
   "source": [
    "Let's take a look at a few steps:"
   ]
  },
  {
   "cell_type": "code",
   "execution_count": 51,
   "metadata": {},
   "outputs": [
    {
     "name": "stdout",
     "output_type": "stream",
     "text": [
      "The first step in the pipeline:\n",
      "('all_features', FeatureUnion(n_jobs=1,\n",
      "       transformer_list=[('categoricals', Pipeline(steps=[('selector', ItemSelector(key=['rbc', 'pc', 'pcc', 'ba', 'htn', 'dm', 'cad', 'appet', 'pe', 'ane'])), ('imputer', Imputer(axis=0, copy=True, missing_values=0, strategy='most_frequent',\n",
      "    verbose=0)), ('encoder', OneHotEncoder(categorical_features=...tegy='median', verbose=0)), ('scaler', StandardScaler(copy=True, with_mean=True, with_std=True))]))],\n",
      "       transformer_weights=None))\n",
      "\n",
      "The second step in the pipeline: \n",
      "('rf_classifier', RandomForestClassifier(bootstrap=True, class_weight=None, criterion='gini',\n",
      "            max_depth=None, max_features='auto', max_leaf_nodes=None,\n",
      "            min_impurity_split=1e-07, min_samples_leaf=1,\n",
      "            min_samples_split=2, min_weight_fraction_leaf=0.0,\n",
      "            n_estimators=10, n_jobs=1, oob_score=False, random_state=None,\n",
      "            verbose=0, warm_start=False))\n",
      "\n",
      "The second step's transformation/model:\n",
      "RandomForestClassifier(bootstrap=True, class_weight=None, criterion='gini',\n",
      "            max_depth=None, max_features='auto', max_leaf_nodes=None,\n",
      "            min_impurity_split=1e-07, min_samples_leaf=1,\n",
      "            min_samples_split=2, min_weight_fraction_leaf=0.0,\n",
      "            n_estimators=10, n_jobs=1, oob_score=False, random_state=None,\n",
      "            verbose=0, warm_start=False)\n",
      "Since we know this is a random forest model, lets try to get the models feature importances:\n"
     ]
    },
    {
     "ename": "NotFittedError",
     "evalue": "Estimator not fitted, call `fit` before `feature_importances_`.",
     "output_type": "error",
     "traceback": [
      "\u001b[0;31m---------------------------------------------------------------------------\u001b[0m",
      "\u001b[0;31mNotFittedError\u001b[0m                            Traceback (most recent call last)",
      "\u001b[0;32m<ipython-input-51-e1f9d011741a>\u001b[0m in \u001b[0;36m<module>\u001b[0;34m()\u001b[0m\n\u001b[1;32m      4\u001b[0m \u001b[0;32mprint\u001b[0m\u001b[0;34m\u001b[0m\u001b[0m\n\u001b[1;32m      5\u001b[0m \u001b[0;32mprint\u001b[0m \u001b[0;34m\"The second step's transformation/model:\\n\"\u001b[0m\u001b[0;34m,\u001b[0m \u001b[0mfull_pipeline\u001b[0m\u001b[0;34m.\u001b[0m\u001b[0msteps\u001b[0m\u001b[0;34m[\u001b[0m\u001b[0;36m1\u001b[0m\u001b[0;34m]\u001b[0m\u001b[0;34m[\u001b[0m\u001b[0;36m1\u001b[0m\u001b[0;34m]\u001b[0m\u001b[0;34m\u001b[0m\u001b[0m\n\u001b[0;32m----> 6\u001b[0;31m \u001b[0;32mprint\u001b[0m \u001b[0;34m\"Since we know this is a random forest model, lets try to get the models feature importances:\\n\"\u001b[0m\u001b[0;34m,\u001b[0m\u001b[0mfull_pipeline\u001b[0m\u001b[0;34m.\u001b[0m\u001b[0msteps\u001b[0m\u001b[0;34m[\u001b[0m\u001b[0;36m1\u001b[0m\u001b[0;34m]\u001b[0m\u001b[0;34m[\u001b[0m\u001b[0;36m1\u001b[0m\u001b[0;34m]\u001b[0m\u001b[0;34m.\u001b[0m\u001b[0mfeature_importances_\u001b[0m\u001b[0;34m\u001b[0m\u001b[0m\n\u001b[0m",
      "\u001b[0;32m/usr/local/lib/python2.7/site-packages/sklearn/ensemble/forest.pyc\u001b[0m in \u001b[0;36mfeature_importances_\u001b[0;34m(self)\u001b[0m\n\u001b[1;32m    365\u001b[0m         \"\"\"\n\u001b[1;32m    366\u001b[0m         \u001b[0;32mif\u001b[0m \u001b[0mself\u001b[0m\u001b[0;34m.\u001b[0m\u001b[0mestimators_\u001b[0m \u001b[0;32mis\u001b[0m \u001b[0mNone\u001b[0m \u001b[0;32mor\u001b[0m \u001b[0mlen\u001b[0m\u001b[0;34m(\u001b[0m\u001b[0mself\u001b[0m\u001b[0;34m.\u001b[0m\u001b[0mestimators_\u001b[0m\u001b[0;34m)\u001b[0m \u001b[0;34m==\u001b[0m \u001b[0;36m0\u001b[0m\u001b[0;34m:\u001b[0m\u001b[0;34m\u001b[0m\u001b[0m\n\u001b[0;32m--> 367\u001b[0;31m             raise NotFittedError(\"Estimator not fitted, \"\n\u001b[0m\u001b[1;32m    368\u001b[0m                                  \"call `fit` before `feature_importances_`.\")\n\u001b[1;32m    369\u001b[0m \u001b[0;34m\u001b[0m\u001b[0m\n",
      "\u001b[0;31mNotFittedError\u001b[0m: Estimator not fitted, call `fit` before `feature_importances_`."
     ]
    }
   ],
   "source": [
    "print \"The first step in the pipeline:\\n\",full_pipeline.steps[0]\n",
    "print \n",
    "print \"The second step in the pipeline: \\n\", full_pipeline.steps[1]\n",
    "print \n",
    "print \"The second step's transformation/model:\\n\", full_pipeline.steps[1][1]\n",
    "print \"Since we know this is a random forest model, lets try to get the models feature importances:\\n\",full_pipeline.steps[1][1].feature_importances_"
   ]
  },
  {
   "cell_type": "markdown",
   "metadata": {},
   "source": [
    "Remember, in order to be able to get feature importances or coefficients of a given model, it needs to be trained first. Just like any other transformation in sklearn, you can fit a pipeline by calling its `fit` method:"
   ]
  },
  {
   "cell_type": "code",
   "execution_count": 52,
   "metadata": {},
   "outputs": [
    {
     "data": {
      "text/plain": [
       "Pipeline(steps=[('all_features', FeatureUnion(n_jobs=1,\n",
       "       transformer_list=[('categoricals', Pipeline(steps=[('selector', ItemSelector(key=['rbc', 'pc', 'pcc', 'ba', 'htn', 'dm', 'cad', 'appet', 'pe', 'ane'])), ('imputer', Imputer(axis=0, copy=True, missing_values=0, strategy='most_frequent',\n",
       "    verbos...imators=10, n_jobs=1, oob_score=False, random_state=None,\n",
       "            verbose=0, warm_start=False))])"
      ]
     },
     "execution_count": 52,
     "metadata": {},
     "output_type": "execute_result"
    }
   ],
   "source": [
    "full_pipeline.fit(X,y)"
   ]
  },
  {
   "cell_type": "markdown",
   "metadata": {},
   "source": [
    "Now that it's been fit, we can extract the feature importances as we wanted:"
   ]
  },
  {
   "cell_type": "code",
   "execution_count": 53,
   "metadata": {},
   "outputs": [
    {
     "data": {
      "text/plain": [
       "array([ 0.007,  0.003,  0.001,  0.002,  0.   ,  0.   ,  0.   ,  0.   ,\n",
       "        0.012,  0.   ,  0.   ,  0.011,  0.01 ,  0.   ,  0.   ,  0.006,\n",
       "        0.   ,  0.001,  0.007,  0.   ,  0.   ,  0.014,  0.005,  0.048,\n",
       "        0.138,  0.003,  0.074,  0.09 ,  0.037,  0.033,  0.003,  0.185,\n",
       "        0.266,  0.004,  0.041])"
      ]
     },
     "execution_count": 53,
     "metadata": {},
     "output_type": "execute_result"
    }
   ],
   "source": [
    "full_pipeline.steps[1][1].feature_importances_.round(3)"
   ]
  },
  {
   "cell_type": "markdown",
   "metadata": {},
   "source": [
    "What's really great about pipelines is that you can even put them into `GridSearchCV` methods, and search across parameters to tune your models. To do so, create a dictionary entry in `param_grid` that names the step (which you named earlier) and parameters you want to test:"
   ]
  },
  {
   "cell_type": "code",
   "execution_count": 55,
   "metadata": {},
   "outputs": [
    {
     "name": "stdout",
     "output_type": "stream",
     "text": [
      "Best cross-validated accuracy:  0.9925\n",
      "Best parameter found:  {'rf_classifier__n_estimators': 20}\n",
      "Fitted_model:  RandomForestClassifier(bootstrap=True, class_weight=None, criterion='gini',\n",
      "            max_depth=None, max_features='auto', max_leaf_nodes=None,\n",
      "            min_impurity_split=1e-07, min_samples_leaf=1,\n",
      "            min_samples_split=2, min_weight_fraction_leaf=0.0,\n",
      "            n_estimators=20, n_jobs=1, oob_score=False, random_state=None,\n",
      "            verbose=0, warm_start=False)\n"
     ]
    }
   ],
   "source": [
    "# using GridSearchCV with Pipeline\n",
    "from sklearn.model_selection import GridSearchCV\n",
    "estimators_range = [20,50,100]\n",
    "param_grid = dict(rf_classifier__n_estimators=estimators_range)\n",
    "grid = GridSearchCV(full_pipeline, param_grid, cv=20, scoring='accuracy',n_jobs=-1)\n",
    "grid.fit(X, y)\n",
    "print \"Best cross-validated accuracy: \",grid.best_score_\n",
    "print \"Best parameter found: \",grid.best_params_\n",
    "print \"Fitted_model: \",grid.best_estimator_.steps[1][1]"
   ]
  },
  {
   "cell_type": "markdown",
   "metadata": {},
   "source": [
    "#### Exercise Time!\n",
    "\n",
    "* add a PCA transformation step before training the classifier\n",
    "* search over the number of PCA components to keep using `GridSearchCV` (test whether to keep the first 5,10, or all components)"
   ]
  },
  {
   "cell_type": "code",
   "execution_count": null,
   "metadata": {
    "collapsed": true
   },
   "outputs": [],
   "source": [
    "pass"
   ]
  }
 ],
 "metadata": {
  "kernelspec": {
   "display_name": "Python 2",
   "language": "python",
   "name": "python2"
  },
  "language_info": {
   "codemirror_mode": {
    "name": "ipython",
    "version": 2
   },
   "file_extension": ".py",
   "mimetype": "text/x-python",
   "name": "python",
   "nbconvert_exporter": "python",
   "pygments_lexer": "ipython2",
   "version": "2.7.13"
  }
 },
 "nbformat": 4,
 "nbformat_minor": 1
}
